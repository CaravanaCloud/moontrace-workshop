{
 "cells": [
  {
   "cell_type": "markdown",
   "metadata": {
    "pycharm": {
     "is_executing": false,
     "name": "#%%\n"
    }
   },
   "source": [
    "# Welcome to Moontracer\n"
   ]
  },
  {
   "cell_type": "markdown",
   "metadata": {},
   "source": [
    "We are very excited for your day one with us in lunar energy technology. \n",
    "\n",
    "With our innovations, the moon can be tracked with more accuracy and precision than ever. Making energy collection more efficient and reliable is key for all businesses that depend on lunar energy. However, harvesting the moon is not an easy task. Battery outages, motor anomalies and other failures can be caused by weather conditions, lack of moon visibility and other circumstances. This notebook contains data collected directly from thousands of our devices, along with the basics of our technology. \n",
    "\n",
    "Your job is to prevent issues and ensure timely maintenance of our whole fleet. Ready?"
   ]
  },
  {
   "cell_type": "markdown",
   "metadata": {},
   "source": [
    "# Before we begin..."
   ]
  },
  {
   "cell_type": "markdown",
   "metadata": {},
   "source": [
    "## Disclaimers"
   ]
  },
  {
   "cell_type": "markdown",
   "metadata": {},
   "source": [
    "Any similarity to name, character, history of any person or institution is entirely coincidental and unintentional."
   ]
  },
  {
   "cell_type": "markdown",
   "metadata": {},
   "source": [
    "Using cloud services may incur in costs. Make sure you delete all resources after finishing your work."
   ]
  },
  {
   "cell_type": "markdown",
   "metadata": {},
   "source": [
    "Only run this workshop on accounts prepared for educational or personal purposes."
   ]
  },
  {
   "cell_type": "markdown",
   "metadata": {},
   "source": [
    "## Using notebooks"
   ]
  },
  {
   "cell_type": "markdown",
   "metadata": {},
   "source": [
    "This set of notebooks is designed to guide you through the development of Machine Learning models and applications using data from Monntracer devices.\n",
    "\n",
    "Going through notebooks is really simple:\n",
    "* Learn or execute each cell, step by step.\n",
    "* Each notebook builds upon the concepts and executions of the previous, go through them in order.\n",
    "* You can read the output of the code bellow each cell or execute them, using the menu above or shift+enter. Before executing a cell, make sure you understand its code and execute previous cells.\n",
    "* After you are finished, make sure you delete create resources to avoid incurring unnecessary costs, especially notebook instances and inference endpoints.\n",
    "\n",
    "Here, use the cell below to practice. Try uncommenting the code below, take a deep breath and execute (ctrl/cmd+enter)"
   ]
  },
  {
   "cell_type": "code",
   "execution_count": 1,
   "metadata": {},
   "outputs": [
    {
     "name": "stdout",
     "output_type": "stream",
     "text": [
      "The Zen of Python, by Tim Peters\n",
      "\n",
      "Beautiful is better than ugly.\n",
      "Explicit is better than implicit.\n",
      "Simple is better than complex.\n",
      "Complex is better than complicated.\n",
      "Flat is better than nested.\n",
      "Sparse is better than dense.\n",
      "Readability counts.\n",
      "Special cases aren't special enough to break the rules.\n",
      "Although practicality beats purity.\n",
      "Errors should never pass silently.\n",
      "Unless explicitly silenced.\n",
      "In the face of ambiguity, refuse the temptation to guess.\n",
      "There should be one-- and preferably only one --obvious way to do it.\n",
      "Although that way may not be obvious at first unless you're Dutch.\n",
      "Now is better than never.\n",
      "Although never is often better than *right* now.\n",
      "If the implementation is hard to explain, it's a bad idea.\n",
      "If the implementation is easy to explain, it may be a good idea.\n",
      "Namespaces are one honking great idea -- let's do more of those!\n"
     ]
    }
   ],
   "source": [
    "import this"
   ]
  },
  {
   "cell_type": "markdown",
   "metadata": {},
   "source": [
    "Visit https://jupyter.org/ for more information about developing with jupyter notebooks."
   ]
  },
  {
   "cell_type": "markdown",
   "metadata": {},
   "source": [
    "## Pre-requisites"
   ]
  },
  {
   "cell_type": "markdown",
   "metadata": {},
   "source": [
    "Update pip:"
   ]
  },
  {
   "cell_type": "code",
   "execution_count": 2,
   "metadata": {},
   "outputs": [
    {
     "name": "stdout",
     "output_type": "stream",
     "text": [
      "Requirement already satisfied: pip in /usr/local/lib/python3.6/site-packages (21.0.1)\n",
      "Collecting pip\n",
      "  Downloading pip-21.1.1-py3-none-any.whl (1.5 MB)\n",
      "\u001b[K     |████████████████████████████████| 1.5 MB 19.9 MB/s eta 0:00:01\n",
      "\u001b[?25hInstalling collected packages: pip\n",
      "  Attempting uninstall: pip\n",
      "    Found existing installation: pip 21.0.1\n",
      "    Uninstalling pip-21.0.1:\n",
      "      Successfully uninstalled pip-21.0.1\n",
      "Successfully installed pip-21.1.1\n"
     ]
    }
   ],
   "source": [
    "! pip install --upgrade pip"
   ]
  },
  {
   "cell_type": "markdown",
   "metadata": {},
   "source": [
    "Install the python libraries used in this workshop:"
   ]
  },
  {
   "cell_type": "code",
   "execution_count": 3,
   "metadata": {},
   "outputs": [
    {
     "name": "stdout",
     "output_type": "stream",
     "text": [
      "Collecting pandas\n",
      "  Downloading pandas-1.1.5-cp36-cp36m-manylinux1_x86_64.whl (9.5 MB)\n",
      "\u001b[K     |████████████████████████████████| 9.5 MB 18.7 MB/s eta 0:00:01\n",
      "\u001b[?25hCollecting numpy\n",
      "  Downloading numpy-1.19.5-cp36-cp36m-manylinux2010_x86_64.whl (14.8 MB)\n",
      "\u001b[K     |████████████████████████████████| 14.8 MB 54.9 MB/s eta 0:00:01\n",
      "\u001b[?25hCollecting matplotlib\n",
      "  Downloading matplotlib-3.3.4-cp36-cp36m-manylinux1_x86_64.whl (11.5 MB)\n",
      "\u001b[K     |████████████████████████████████| 11.5 MB 62.2 MB/s eta 0:00:01\n",
      "\u001b[?25hCollecting boto3\n",
      "  Downloading boto3-1.17.69-py2.py3-none-any.whl (131 kB)\n",
      "\u001b[K     |████████████████████████████████| 131 kB 70.4 MB/s eta 0:00:01\n",
      "\u001b[?25hRequirement already satisfied: awscli in /usr/local/lib/python3.6/site-packages (1.19.59)\n",
      "Collecting awscli\n",
      "  Downloading awscli-1.19.69-py2.py3-none-any.whl (3.6 MB)\n",
      "\u001b[K     |████████████████████████████████| 3.6 MB 60.9 MB/s eta 0:00:01\n",
      "\u001b[?25hCollecting sagemaker\n",
      "  Downloading sagemaker-2.39.1.tar.gz (409 kB)\n",
      "\u001b[K     |████████████████████████████████| 409 kB 69.7 MB/s eta 0:00:01\n",
      "\u001b[?25hCollecting pytz>=2017.2\n",
      "  Downloading pytz-2021.1-py2.py3-none-any.whl (510 kB)\n",
      "\u001b[K     |████████████████████████████████| 510 kB 54.8 MB/s eta 0:00:01\n",
      "\u001b[?25hRequirement already satisfied: python-dateutil>=2.7.3 in /usr/local/lib/python3.6/site-packages (from pandas) (2.8.1)\n",
      "Requirement already satisfied: six>=1.5 in /usr/local/lib/python3.6/site-packages (from python-dateutil>=2.7.3->pandas) (1.15.0)\n",
      "Collecting pyparsing!=2.0.4,!=2.1.2,!=2.1.6,>=2.0.3\n",
      "  Downloading pyparsing-2.4.7-py2.py3-none-any.whl (67 kB)\n",
      "\u001b[K     |████████████████████████████████| 67 kB 716 kB/s  eta 0:00:01\n",
      "\u001b[?25hCollecting kiwisolver>=1.0.1\n",
      "  Downloading kiwisolver-1.3.1-cp36-cp36m-manylinux1_x86_64.whl (1.1 MB)\n",
      "\u001b[K     |████████████████████████████████| 1.1 MB 54.1 MB/s eta 0:00:01\n",
      "\u001b[?25hCollecting cycler>=0.10\n",
      "  Downloading cycler-0.10.0-py2.py3-none-any.whl (6.5 kB)\n",
      "Collecting pillow>=6.2.0\n",
      "  Downloading Pillow-8.2.0-cp36-cp36m-manylinux1_x86_64.whl (3.0 MB)\n",
      "\u001b[K     |████████████████████████████████| 3.0 MB 59.7 MB/s eta 0:00:01\n",
      "\u001b[?25hRequirement already satisfied: s3transfer<0.5.0,>=0.4.0 in /usr/local/lib/python3.6/site-packages (from boto3) (0.4.2)\n",
      "Requirement already satisfied: jmespath<1.0.0,>=0.7.1 in /usr/local/lib/python3.6/site-packages (from boto3) (0.10.0)\n",
      "Collecting botocore<1.21.0,>=1.20.69\n",
      "  Downloading botocore-1.20.69-py2.py3-none-any.whl (7.5 MB)\n",
      "\u001b[K     |████████████████████████████████| 7.5 MB 60.4 MB/s eta 0:00:01\n",
      "\u001b[?25hRequirement already satisfied: urllib3<1.27,>=1.25.4 in /usr/local/lib/python3.6/site-packages (from botocore<1.21.0,>=1.20.69->boto3) (1.26.4)\n",
      "Requirement already satisfied: docutils<0.16,>=0.10 in /usr/local/lib/python3.6/site-packages (from awscli) (0.15.2)\n",
      "Requirement already satisfied: colorama<0.4.4,>=0.2.5 in /usr/local/lib/python3.6/site-packages (from awscli) (0.4.3)\n",
      "Requirement already satisfied: PyYAML<5.5,>=3.10 in /usr/local/lib/python3.6/site-packages (from awscli) (5.4.1)\n",
      "Requirement already satisfied: rsa<4.8,>=3.1.2 in /usr/local/lib/python3.6/site-packages (from awscli) (4.7.2)\n",
      "Requirement already satisfied: pyasn1>=0.1.3 in /usr/local/lib/python3.6/site-packages (from rsa<4.8,>=3.1.2->awscli) (0.4.8)\n",
      "Collecting attrs\n",
      "  Downloading attrs-21.2.0-py2.py3-none-any.whl (53 kB)\n",
      "\u001b[K     |████████████████████████████████| 53 kB 269 kB/s  eta 0:00:01\n",
      "\u001b[?25hCollecting google-pasta\n",
      "  Downloading google_pasta-0.2.0-py3-none-any.whl (57 kB)\n",
      "\u001b[K     |████████████████████████████████| 57 kB 707 kB/s  eta 0:00:01\n",
      "\u001b[?25hCollecting protobuf>=3.1\n",
      "  Downloading protobuf-3.16.0-cp36-cp36m-manylinux_2_5_x86_64.manylinux1_x86_64.whl (1.0 MB)\n",
      "\u001b[K     |████████████████████████████████| 1.0 MB 57.6 MB/s eta 0:00:01\n",
      "\u001b[?25hCollecting protobuf3-to-dict>=0.1.5\n",
      "  Downloading protobuf3-to-dict-0.1.5.tar.gz (3.5 kB)\n",
      "Collecting smdebug_rulesconfig==1.0.1\n",
      "  Downloading smdebug_rulesconfig-1.0.1-py2.py3-none-any.whl (20 kB)\n",
      "Collecting importlib-metadata>=1.4.0\n",
      "  Downloading importlib_metadata-4.0.1-py3-none-any.whl (16 kB)\n",
      "Collecting packaging>=20.0\n",
      "  Downloading packaging-20.9-py2.py3-none-any.whl (40 kB)\n",
      "\u001b[K     |████████████████████████████████| 40 kB 767 kB/s  eta 0:00:01\n",
      "\u001b[?25hCollecting pathos\n",
      "  Downloading pathos-0.2.7-py2.py3-none-any.whl (81 kB)\n",
      "\u001b[K     |████████████████████████████████| 81 kB 1.3 MB/s  eta 0:00:01\n",
      "\u001b[?25hCollecting typing-extensions>=3.6.4\n",
      "  Downloading typing_extensions-3.10.0.0-py3-none-any.whl (26 kB)\n",
      "Collecting zipp>=0.5\n",
      "  Downloading zipp-3.4.1-py3-none-any.whl (5.2 kB)\n",
      "Collecting ppft>=1.6.6.3\n",
      "  Downloading ppft-1.6.6.3-py3-none-any.whl (65 kB)\n",
      "\u001b[K     |████████████████████████████████| 65 kB 481 kB/s  eta 0:00:01\n",
      "\u001b[?25hCollecting pox>=0.2.9\n",
      "  Downloading pox-0.2.9-py2.py3-none-any.whl (30 kB)\n",
      "Collecting multiprocess>=0.70.11\n",
      "  Downloading multiprocess-0.70.11.1-py36-none-any.whl (101 kB)\n",
      "\u001b[K     |████████████████████████████████| 101 kB 1.5 MB/s eta 0:00:01\n",
      "\u001b[?25hCollecting dill>=0.3.3\n",
      "  Downloading dill-0.3.3-py2.py3-none-any.whl (81 kB)\n",
      "\u001b[K     |████████████████████████████████| 81 kB 1.4 MB/s  eta 0:00:01\n",
      "\u001b[?25hBuilding wheels for collected packages: sagemaker, protobuf3-to-dict\n",
      "  Building wheel for sagemaker (setup.py) ... \u001b[?25ldone\n",
      "\u001b[?25h  Created wheel for sagemaker: filename=sagemaker-2.39.1-py2.py3-none-any.whl size=573461 sha256=6e8d3b04023136fe6faa5c8adab3a155450d848f8816429a72855e76579ff292\n",
      "  Stored in directory: /root/.cache/pip/wheels/61/51/b6/26ba8380446cedafa6eb5ab908b460b80b1664cf964b7f5967\n",
      "  Building wheel for protobuf3-to-dict (setup.py) ... \u001b[?25ldone\n",
      "\u001b[?25h  Created wheel for protobuf3-to-dict: filename=protobuf3_to_dict-0.1.5-py3-none-any.whl size=4030 sha256=8b87c2c70585113327ebfc60fe9b76ea58a7273c7d7acce3e2240f442622d13b\n",
      "  Stored in directory: /root/.cache/pip/wheels/99/78/43/1e2c6b0edf0811e83d4da1dc8d747dc4a6358ec03369cbc1f5\n",
      "Successfully built sagemaker protobuf3-to-dict\n",
      "Installing collected packages: dill, botocore, zipp, typing-extensions, pytz, pyparsing, protobuf, ppft, pox, numpy, multiprocess, smdebug-rulesconfig, protobuf3-to-dict, pillow, pathos, pandas, packaging, kiwisolver, importlib-metadata, google-pasta, cycler, boto3, attrs, sagemaker, matplotlib, awscli\n",
      "  Attempting uninstall: botocore\n",
      "    Found existing installation: botocore 1.20.59\n",
      "    Uninstalling botocore-1.20.59:\n",
      "      Successfully uninstalled botocore-1.20.59\n",
      "  Attempting uninstall: awscli\n",
      "    Found existing installation: awscli 1.19.59\n",
      "    Uninstalling awscli-1.19.59:\n",
      "      Successfully uninstalled awscli-1.19.59\n",
      "Successfully installed attrs-21.2.0 awscli-1.19.69 boto3-1.17.69 botocore-1.20.69 cycler-0.10.0 dill-0.3.3 google-pasta-0.2.0 importlib-metadata-4.0.1 kiwisolver-1.3.1 matplotlib-3.3.4 multiprocess-0.70.11.1 numpy-1.19.5 packaging-20.9 pandas-1.1.5 pathos-0.2.7 pillow-8.2.0 pox-0.2.9 ppft-1.6.6.3 protobuf-3.16.0 protobuf3-to-dict-0.1.5 pyparsing-2.4.7 pytz-2021.1 sagemaker-2.39.1 smdebug-rulesconfig-1.0.1 typing-extensions-3.10.0.0 zipp-3.4.1\n",
      "\u001b[33mWARNING: Running pip as root will break packages and permissions. You should install packages reliably by using venv: https://pip.pypa.io/warnings/venv\u001b[0m\n"
     ]
    }
   ],
   "source": [
    "! pip3 install --upgrade pandas numpy matplotlib boto3 awscli sagemaker"
   ]
  },
  {
   "cell_type": "markdown",
   "metadata": {},
   "source": [
    "# Are you ready?"
   ]
  },
  {
   "cell_type": "markdown",
   "metadata": {},
   "source": [
    "Start with the first notebook and perform some [exploratory data analysis](mt-eda.ipynb) to understand the data content and patterns."
   ]
  },
  {
   "cell_type": "markdown",
   "metadata": {},
   "source": [
    "# Have you been here before?"
   ]
  },
  {
   "cell_type": "markdown",
   "metadata": {},
   "source": [
    "Navigate directly to the desired notebook:"
   ]
  },
  {
   "cell_type": "markdown",
   "metadata": {},
   "source": [
    "1. [Exploratory Data Analysis](mt-eda.ipynb)\n",
    "1. [Battery Forecasting with Deep AR](mt-battery-deepar.ipynb)\n",
    "1. Battery Forecasting with Amazon Forecast\n",
    "1. [Motor Anomaly Detection](mt-motor-anomaly.ipynb)\n",
    "1. [Motor Predictive Maintenance](mt-motor-maintenance.ipynb)\n",
    "1. Visualizations\n",
    "1. Application Integration\n",
    "1. [Cleanup & Cost Control](mt-cleanup.ipynb)\n",
    "1. [Next Steps](mt-next.ipynb)"
   ]
  }
 ],
 "metadata": {
  "instance_type": "ml.t3.medium",
  "kernelspec": {
   "display_name": "Python 3 (Base Python)",
   "language": "python",
   "name": "python3__SAGEMAKER_INTERNAL__arn:aws:sagemaker:us-east-1:081325390199:image/python-3.6"
  },
  "language_info": {
   "codemirror_mode": {
    "name": "ipython",
    "version": 3
   },
   "file_extension": ".py",
   "mimetype": "text/x-python",
   "name": "python",
   "nbconvert_exporter": "python",
   "pygments_lexer": "ipython3",
   "version": "3.6.13"
  },
  "pycharm": {
   "stem_cell": {
    "cell_type": "raw",
    "metadata": {
     "collapsed": false
    },
    "source": []
   }
  }
 },
 "nbformat": 4,
 "nbformat_minor": 4
}
