{
 "cells": [
  {
   "cell_type": "markdown",
   "metadata": {
    "pycharm": {
     "is_executing": false,
     "name": "#%%\n"
    }
   },
   "source": [
    "# Welcome to Moontracer\n"
   ]
  },
  {
   "cell_type": "markdown",
   "metadata": {},
   "source": [
    "We are very excited for your day one with us in lunar energy technology. \n",
    "\n",
    "With our innovations, the moon can be tracked with more accuracy and precision than ever. Making energy collection more efficient and reliable is key for all businesses that depend on lunar energy. However, harvesting the moon is not an easy task. Battery outages, motor anomalies and other failures can be caused by weather conditions, lack of moon visibility and other circumstances. This notebook contains data collected directly from thousands of our devices, along with the basics of our technology. \n",
    "\n",
    "Your job is to prevent issues and ensure timely maintenance of our whole fleet. Ready?"
   ]
  },
  {
   "cell_type": "markdown",
   "metadata": {},
   "source": [
    "# Before we begin..."
   ]
  },
  {
   "cell_type": "markdown",
   "metadata": {},
   "source": [
    "## Disclaimers"
   ]
  },
  {
   "cell_type": "markdown",
   "metadata": {},
   "source": [
    "Any similarity to name, character, history of any person or institution is entirely coincidental and unintentional."
   ]
  },
  {
   "cell_type": "markdown",
   "metadata": {},
   "source": [
    "Using cloud services may incur in costs. Make sure you delete all resources after finishing your work."
   ]
  },
  {
   "cell_type": "markdown",
   "metadata": {},
   "source": [
    "Only run this workshop on accounts prepared for educational or personal purposes."
   ]
  },
  {
   "cell_type": "markdown",
   "metadata": {},
   "source": [
    "## Using notebooks"
   ]
  },
  {
   "cell_type": "markdown",
   "metadata": {},
   "source": [
    "This set of notebooks is designed to guide you through the development of Machine Learning models and applications using data from Monntracer devices.\n",
    "\n",
    "Going through notebooks is really simple:\n",
    "* Learn or execute each cell, step by step.\n",
    "* Each notebook builds upon the concepts and executions of the previous, go through them in order.\n",
    "* You can read the output of the code bellow each cell or execute them, using the menu above or shift+enter. Before executing a cell, make sure you understand its code and execute previous cells.\n",
    "* After you are finished, make sure you delete create resources to avoid incurring unnecessary costs, especially notebook instances and inference endpoints.\n",
    "\n",
    "Here, use the cell below to practice. Try uncommenting the code below, take a deep breath and execute (ctrl/cmd+enter)"
   ]
  },
  {
   "cell_type": "code",
   "execution_count": null,
   "metadata": {},
   "outputs": [],
   "source": [
    "# import this"
   ]
  },
  {
   "cell_type": "markdown",
   "metadata": {},
   "source": [
    "Visit https://jupyter.org/ for more information about developing with jupyter notebooks."
   ]
  },
  {
   "cell_type": "markdown",
   "metadata": {},
   "source": [
    "## Pre-requisites"
   ]
  },
  {
   "cell_type": "markdown",
   "metadata": {},
   "source": [
    "Update pip:"
   ]
  },
  {
   "cell_type": "code",
   "execution_count": null,
   "metadata": {},
   "outputs": [],
   "source": [
    "! pip install --upgrade pip"
   ]
  },
  {
   "cell_type": "markdown",
   "metadata": {},
   "source": [
    "Install the python libraries used in this workshop:"
   ]
  },
  {
   "cell_type": "code",
   "execution_count": null,
   "metadata": {},
   "outputs": [],
   "source": [
    "! pip3 install --upgrade pandas numpy matplotlib boto3 awscli sagemaker"
   ]
  },
  {
   "cell_type": "markdown",
   "metadata": {},
   "source": [
    "# Are you ready?"
   ]
  },
  {
   "cell_type": "markdown",
   "metadata": {},
   "source": [
    "Start with the first notebook and perform some [exploratory data analysis](mt-eda.ipynb) to understand the data content and patterns."
   ]
  },
  {
   "cell_type": "markdown",
   "metadata": {},
   "source": [
    "# Have you been here before?"
   ]
  },
  {
   "cell_type": "markdown",
   "metadata": {},
   "source": [
    "Navigate directly to the desired notebook:"
   ]
  },
  {
   "cell_type": "markdown",
   "metadata": {},
   "source": [
    "1. [Exploratory Data Analysis](mt-eda.ipynb)\n",
    "1. [Battery Forecasting with Deep AR](mt-battery-deepar.ipynb)\n",
    "1. Battery Forecasting with Amazon Forecast\n",
    "1. [Motor Anomaly Detection](mt-motor-anomaly.ipynb)\n",
    "1. [Motor Predictive Maintenance](mt-motor-maintenance.ipynb)\n",
    "1. Visualizations\n",
    "1. Application Integration\n",
    "1. [Cleanup & Cost Control](mt-cleanup.ipynb)\n",
    "1. [Next Steps](mt-next.ipynb)"
   ]
  }
 ],
 "metadata": {
  "kernelspec": {
   "display_name": "conda_python3",
   "language": "python",
   "name": "conda_python3"
  },
  "language_info": {
   "codemirror_mode": {
    "name": "ipython",
    "version": 3
   },
   "file_extension": ".py",
   "mimetype": "text/x-python",
   "name": "python",
   "nbconvert_exporter": "python",
   "pygments_lexer": "ipython3",
   "version": "3.6.5"
  },
  "pycharm": {
   "stem_cell": {
    "cell_type": "raw",
    "metadata": {
     "collapsed": false
    },
    "source": []
   }
  }
 },
 "nbformat": 4,
 "nbformat_minor": 1
}
