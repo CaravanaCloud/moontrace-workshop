{
 "cells": [
  {
   "cell_type": "markdown",
   "metadata": {
    "pycharm": {
     "is_executing": false,
     "name": "#%%\n"
    }
   },
   "source": [
    "# Welcome to Moontracer\n"
   ]
  },
  {
   "cell_type": "markdown",
   "metadata": {},
   "source": [
    "We are very excited for your day one in lunar energy technology. With our innovations, the moon can be tracked with more accuracy and precision than ever, making energy collection more efficient and reliable. However, harvesting moon energy is not an easy task. Battery outages, motor anomalies and other failures can be caused by weather conditions, lack of moon visibility and other circumstances. This notebook contains data collected directly from hundreds of our devices, along with the basics of our technology. Your goal is prevent issues and ensure timely maintenance of our whole fleet. Ready?"
   ]
  },
  {
   "cell_type": "markdown",
   "metadata": {},
   "source": [
    "# Before we begin..."
   ]
  },
  {
   "cell_type": "markdown",
   "metadata": {},
   "source": [
    "## Disclaimers"
   ]
  },
  {
   "cell_type": "markdown",
   "metadata": {},
   "source": [
    "Any similarity to name, character, history of any person or institution is entirely coincidental and unintentional."
   ]
  },
  {
   "cell_type": "markdown",
   "metadata": {},
   "source": [
    "Using cloud services may incur in costs. Make sure you delete all resources, as explained in the last notebook."
   ]
  },
  {
   "cell_type": "markdown",
   "metadata": {},
   "source": [
    "## Pre-requisites"
   ]
  },
  {
   "cell_type": "markdown",
   "metadata": {},
   "source": [
    "Update pip:"
   ]
  },
  {
   "cell_type": "code",
   "execution_count": null,
   "metadata": {},
   "outputs": [],
   "source": [
    "! pip install --upgrade pip"
   ]
  },
  {
   "cell_type": "markdown",
   "metadata": {},
   "source": [
    "Install the python libraries used in this workshop:"
   ]
  },
  {
   "cell_type": "code",
   "execution_count": 11,
   "metadata": {},
   "outputs": [
    {
     "name": "stdout",
     "output_type": "stream",
     "text": [
      "Collecting pandas\n",
      "\u001b[?25l  Downloading https://files.pythonhosted.org/packages/bb/71/8f53bdbcbc67c912b888b40def255767e475402e9df64050019149b1a943/pandas-1.0.3-cp36-cp36m-manylinux1_x86_64.whl (10.0MB)\n",
      "\u001b[K    100% |████████████████████████████████| 10.0MB 4.8MB/s eta 0:00:01\n",
      "\u001b[?25hCollecting numpy\n",
      "\u001b[?25l  Downloading https://files.pythonhosted.org/packages/07/08/a549ba8b061005bb629b76adc000f3caaaf881028b963c2e18f811c6edc1/numpy-1.18.2-cp36-cp36m-manylinux1_x86_64.whl (20.2MB)\n",
      "\u001b[K    100% |████████████████████████████████| 20.2MB 2.3MB/s eta 0:00:01\n",
      "\u001b[?25hCollecting matplotlib\n",
      "\u001b[?25l  Downloading https://files.pythonhosted.org/packages/93/4b/52da6b1523d5139d04e02d9e26ceda6146b48f2a4e5d2abfdf1c7bac8c40/matplotlib-3.2.1-cp36-cp36m-manylinux1_x86_64.whl (12.4MB)\n",
      "\u001b[K    100% |████████████████████████████████| 12.4MB 5.1MB/s eta 0:00:01\n",
      "\u001b[?25hCollecting boto3\n",
      "\u001b[?25l  Downloading https://files.pythonhosted.org/packages/50/61/9bd171483800ea21e14f792673f9cac97aa7194bafd6f215a2e0ee72f86c/boto3-1.12.41-py2.py3-none-any.whl (128kB)\n",
      "\u001b[K    100% |████████████████████████████████| 133kB 49.1MB/s ta 0:00:01\n",
      "\u001b[?25hCollecting awscli\n",
      "\u001b[?25l  Downloading https://files.pythonhosted.org/packages/65/aa/215365574a70049fa6ef7a319f0f171e8daf2b34d12817ed30315418bb99/awscli-1.18.41-py2.py3-none-any.whl (3.0MB)\n",
      "\u001b[K    100% |████████████████████████████████| 3.0MB 17.8MB/s ta 0:00:01\n",
      "\u001b[?25hCollecting sagemaker\n",
      "\u001b[?25l  Downloading https://files.pythonhosted.org/packages/e1/06/990e3536def03ddd32e3e470a3940bc276813184a6783579eec26946fc1b/sagemaker-1.55.4.tar.gz (302kB)\n",
      "\u001b[K    100% |████████████████████████████████| 307kB 43.0MB/s ta 0:00:01\n",
      "\u001b[?25hRequirement not upgraded as not directly required: python-dateutil>=2.6.1 in /home/ec2-user/anaconda3/envs/python3/lib/python3.6/site-packages (from pandas) (2.7.3)\n",
      "Requirement not upgraded as not directly required: pytz>=2017.2 in /home/ec2-user/anaconda3/envs/python3/lib/python3.6/site-packages (from pandas) (2018.4)\n",
      "Requirement not upgraded as not directly required: pyparsing!=2.0.4,!=2.1.2,!=2.1.6,>=2.0.1 in /home/ec2-user/anaconda3/envs/python3/lib/python3.6/site-packages (from matplotlib) (2.2.0)\n",
      "Requirement not upgraded as not directly required: cycler>=0.10 in /home/ec2-user/anaconda3/envs/python3/lib/python3.6/site-packages (from matplotlib) (0.10.0)\n",
      "Requirement not upgraded as not directly required: kiwisolver>=1.0.1 in /home/ec2-user/anaconda3/envs/python3/lib/python3.6/site-packages (from matplotlib) (1.0.1)\n",
      "Requirement not upgraded as not directly required: s3transfer<0.4.0,>=0.3.0 in /home/ec2-user/anaconda3/envs/python3/lib/python3.6/site-packages (from boto3) (0.3.3)\n",
      "Requirement not upgraded as not directly required: jmespath<1.0.0,>=0.7.1 in /home/ec2-user/anaconda3/envs/python3/lib/python3.6/site-packages (from boto3) (0.9.4)\n",
      "Collecting botocore<1.16.0,>=1.15.41 (from boto3)\n",
      "\u001b[?25l  Downloading https://files.pythonhosted.org/packages/fb/68/b355df2cf5df13b4c256e9b1f366f3f772ed4bc077866c13189ce96a7972/botocore-1.15.41-py2.py3-none-any.whl (6.1MB)\n",
      "\u001b[K    100% |████████████████████████████████| 6.1MB 7.7MB/s eta 0:00:01\n",
      "\u001b[?25hRequirement not upgraded as not directly required: PyYAML<5.4,>=3.10; python_version != \"3.4\" in /home/ec2-user/anaconda3/envs/python3/lib/python3.6/site-packages (from awscli) (5.3.1)\n",
      "Requirement not upgraded as not directly required: colorama<0.4.4,>=0.2.5; python_version != \"3.4\" in /home/ec2-user/anaconda3/envs/python3/lib/python3.6/site-packages (from awscli) (0.3.9)\n",
      "Requirement not upgraded as not directly required: docutils<0.16,>=0.10 in /home/ec2-user/anaconda3/envs/python3/lib/python3.6/site-packages (from awscli) (0.14)\n",
      "Requirement not upgraded as not directly required: rsa<=3.5.0,>=3.1.2 in /home/ec2-user/anaconda3/envs/python3/lib/python3.6/site-packages (from awscli) (3.4.2)\n",
      "Requirement not upgraded as not directly required: protobuf>=3.1 in /home/ec2-user/anaconda3/envs/python3/lib/python3.6/site-packages (from sagemaker) (3.6.1)\n",
      "Requirement not upgraded as not directly required: scipy>=0.19.0 in /home/ec2-user/anaconda3/envs/python3/lib/python3.6/site-packages (from sagemaker) (1.1.0)\n",
      "Requirement not upgraded as not directly required: protobuf3-to-dict>=0.1.5 in /home/ec2-user/anaconda3/envs/python3/lib/python3.6/site-packages (from sagemaker) (0.1.5)\n",
      "Requirement not upgraded as not directly required: smdebug-rulesconfig==0.1.2 in /home/ec2-user/anaconda3/envs/python3/lib/python3.6/site-packages (from sagemaker) (0.1.2)\n",
      "Requirement not upgraded as not directly required: importlib-metadata>=1.4.0 in /home/ec2-user/anaconda3/envs/python3/lib/python3.6/site-packages (from sagemaker) (1.5.0)\n",
      "Requirement not upgraded as not directly required: packaging>=20.0 in /home/ec2-user/anaconda3/envs/python3/lib/python3.6/site-packages (from sagemaker) (20.1)\n",
      "Requirement not upgraded as not directly required: six>=1.5 in /home/ec2-user/anaconda3/envs/python3/lib/python3.6/site-packages (from python-dateutil>=2.6.1->pandas) (1.11.0)\n",
      "Requirement not upgraded as not directly required: setuptools in /home/ec2-user/anaconda3/envs/python3/lib/python3.6/site-packages (from kiwisolver>=1.0.1->matplotlib) (39.1.0)\n",
      "Requirement not upgraded as not directly required: urllib3<1.26,>=1.20; python_version != \"3.4\" in /home/ec2-user/anaconda3/envs/python3/lib/python3.6/site-packages (from botocore<1.16.0,>=1.15.41->boto3) (1.23)\n",
      "Requirement not upgraded as not directly required: pyasn1>=0.1.3 in /home/ec2-user/anaconda3/envs/python3/lib/python3.6/site-packages (from rsa<=3.5.0,>=3.1.2->awscli) (0.4.8)\n",
      "Requirement not upgraded as not directly required: zipp>=0.5 in /home/ec2-user/anaconda3/envs/python3/lib/python3.6/site-packages (from importlib-metadata>=1.4.0->sagemaker) (3.0.0)\n",
      "Building wheels for collected packages: sagemaker\n",
      "  Running setup.py bdist_wheel for sagemaker ... \u001b[?25ldone\n",
      "\u001b[?25h  Stored in directory: /home/ec2-user/.cache/pip/wheels/b7/1d/66/4bdcbca419e3976f4193c49a938a0f40fc37812fd4f2a698fa\n",
      "Successfully built sagemaker\n",
      "Installing collected packages: numpy, pandas, matplotlib, botocore, boto3, awscli, sagemaker\n",
      "  Found existing installation: numpy 1.14.3\n",
      "    Uninstalling numpy-1.14.3:\n",
      "      Successfully uninstalled numpy-1.14.3\n",
      "  Found existing installation: pandas 0.24.2\n",
      "    Uninstalling pandas-0.24.2:\n",
      "      Successfully uninstalled pandas-0.24.2\n",
      "  Found existing installation: matplotlib 3.0.3\n",
      "    Uninstalling matplotlib-3.0.3:\n",
      "      Successfully uninstalled matplotlib-3.0.3\n",
      "  Found existing installation: botocore 1.15.24\n",
      "    Uninstalling botocore-1.15.24:\n",
      "      Successfully uninstalled botocore-1.15.24\n",
      "  Found existing installation: boto3 1.12.24\n",
      "    Uninstalling boto3-1.12.24:\n",
      "      Successfully uninstalled boto3-1.12.24\n",
      "  Found existing installation: awscli 1.18.24\n",
      "    Uninstalling awscli-1.18.24:\n",
      "      Successfully uninstalled awscli-1.18.24\n",
      "  Found existing installation: sagemaker 1.51.3\n",
      "    Uninstalling sagemaker-1.51.3:\n",
      "      Successfully uninstalled sagemaker-1.51.3\n",
      "Successfully installed awscli-1.18.41 boto3-1.12.41 botocore-1.15.41 matplotlib-3.2.1 numpy-1.18.2 pandas-1.0.3 sagemaker-1.55.4\n",
      "\u001b[33mYou are using pip version 10.0.1, however version 20.0.2 is available.\n",
      "You should consider upgrading via the 'pip install --upgrade pip' command.\u001b[0m\n"
     ]
    }
   ],
   "source": [
    "! pip3 install --upgrade pandas numpy matplotlib boto3 awscli sagemaker"
   ]
  },
  {
   "cell_type": "markdown",
   "metadata": {},
   "source": [
    "# What should i do?"
   ]
  },
  {
   "cell_type": "markdown",
   "metadata": {},
   "source": [
    "Well, that IS the question..."
   ]
  },
  {
   "cell_type": "markdown",
   "metadata": {},
   "source": [
    "This set of notebooks is designed to guide you through the development of Machine Learning models and applications using data from Monntracer devices.\n",
    "\n",
    "Going through notebooks is really simple:\n",
    "* Learn or execute each cell, step by step.\n",
    "* Each notebook builds upon the concepts and executions of the previous, go through them in order.\n",
    "* You can read the output of the code bellow each cell or execute them, using the menu above or shift+enter. Before executing a cell, make sure you understand its code and execute previous cells.\n",
    "* After you are finished, make sure you delete create resources to avoid incurring unnecessary costs, especially notebook instances and inference endpoints.\n",
    "\n",
    "Here, use the cell below to practice. Try uncommenting the code below, take a deep breath and execute (ctrl/cmd+enter)"
   ]
  },
  {
   "cell_type": "code",
   "execution_count": 2,
   "metadata": {},
   "outputs": [],
   "source": [
    "# import this"
   ]
  },
  {
   "cell_type": "markdown",
   "metadata": {},
   "source": [
    "Visit https://jupyter.org/ for more information about developing with jupyter notebooks."
   ]
  },
  {
   "cell_type": "markdown",
   "metadata": {},
   "source": [
    "# Are you ready?"
   ]
  },
  {
   "cell_type": "markdown",
   "metadata": {},
   "source": [
    "Let's do some [exploratory data analysis](mt-eda.ipynb) to understand the data content and patterns."
   ]
  },
  {
   "cell_type": "markdown",
   "metadata": {},
   "source": [
    "# Have you been here before?"
   ]
  },
  {
   "cell_type": "markdown",
   "metadata": {},
   "source": [
    "Navigate directly to the desired notebook:"
   ]
  },
  {
   "cell_type": "markdown",
   "metadata": {},
   "source": [
    "1. [Exploratory Data Analysis](mt-eda.ipynb)\n",
    "1. [Battery Forecasting with Deep AR](mt-battery-deepar.ipynb)\n",
    "1. [Battery Forecasting with Amazon Forecast](mt-battery-forecast.ipynb)\n",
    "1. [Motor Anomaly Detection](mt-motor-anomaly.ipynb)\n",
    "1. [Motor Anomaly Forecasting](mt-motor-af.ipynb)\n",
    "1. [Visualizations](mt-viz.ipynb)\n",
    "1. [Application Integration](mt-motor-integration.ipynb)\n",
    "1. [Cleanup & Cost Control](mt-cleanup.ipynb)\n",
    "1. [Next Steps](mt-next.ipynb)"
   ]
  },
  {
   "cell_type": "code",
   "execution_count": null,
   "metadata": {},
   "outputs": [],
   "source": []
  }
 ],
 "metadata": {
  "kernelspec": {
   "display_name": "conda_python3",
   "language": "python",
   "name": "conda_python3"
  },
  "language_info": {
   "codemirror_mode": {
    "name": "ipython",
    "version": 3
   },
   "file_extension": ".py",
   "mimetype": "text/x-python",
   "name": "python",
   "nbconvert_exporter": "python",
   "pygments_lexer": "ipython3",
   "version": "3.6.5"
  },
  "pycharm": {
   "stem_cell": {
    "cell_type": "raw",
    "metadata": {
     "collapsed": false
    },
    "source": []
   }
  }
 },
 "nbformat": 4,
 "nbformat_minor": 1
}
