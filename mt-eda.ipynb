{
 "cells": [
  {
   "cell_type": "markdown",
   "metadata": {},
   "source": [
    "# Exploratory Data Analysis"
   ]
  },
  {
   "cell_type": "markdown",
   "metadata": {},
   "source": [
    "Before we start training models and running inference, let's take a brief look in the contents of our data.\n",
    "The dataset contains actual telemetry from moontracers deployed all around the world. \n",
    "Data files have been aggregated and anonymized for your security and convenience."
   ]
  },
  {
   "cell_type": "markdown",
   "metadata": {},
   "source": [
    "## Loading and exploring data with Pandas"
   ]
  },
  {
   "cell_type": "markdown",
   "metadata": {},
   "source": [
    "The pandas library offers tools to effectively load, manipulate and analyse data.  "
   ]
  },
  {
   "cell_type": "code",
   "execution_count": 1,
   "metadata": {},
   "outputs": [
    {
     "name": "stdout",
     "output_type": "stream",
     "text": [
      "Requirement already up-to-date: pip in /home/ec2-user/anaconda3/envs/python3/lib/python3.6/site-packages (20.1)\r\n"
     ]
    }
   ],
   "source": [
    "!pip install --upgrade pip"
   ]
  },
  {
   "cell_type": "code",
   "execution_count": 2,
   "metadata": {},
   "outputs": [
    {
     "name": "stdout",
     "output_type": "stream",
     "text": [
      "Requirement already up-to-date: pandas in /home/ec2-user/anaconda3/envs/python3/lib/python3.6/site-packages (1.0.3)\r\n",
      "Requirement already satisfied, skipping upgrade: pytz>=2017.2 in /home/ec2-user/anaconda3/envs/python3/lib/python3.6/site-packages (from pandas) (2018.4)\r\n",
      "Requirement already satisfied, skipping upgrade: numpy>=1.13.3 in /home/ec2-user/anaconda3/envs/python3/lib/python3.6/site-packages (from pandas) (1.14.3)\r\n",
      "Requirement already satisfied, skipping upgrade: python-dateutil>=2.6.1 in /home/ec2-user/anaconda3/envs/python3/lib/python3.6/site-packages (from pandas) (2.7.3)\r\n",
      "Requirement already satisfied, skipping upgrade: six>=1.5 in /home/ec2-user/anaconda3/envs/python3/lib/python3.6/site-packages (from python-dateutil>=2.6.1->pandas) (1.11.0)\r\n"
     ]
    }
   ],
   "source": [
    "!pip install --upgrade pandas"
   ]
  },
  {
   "cell_type": "code",
   "execution_count": 3,
   "metadata": {},
   "outputs": [],
   "source": [
    "import pandas as pd"
   ]
  },
  {
   "cell_type": "markdown",
   "metadata": {},
   "source": [
    "A pandas DataFrame is a table-like data structure used to store and manipulate data in memory.\n",
    "Let's create one from a CSV file on disk."
   ]
  },
  {
   "cell_type": "code",
   "execution_count": 4,
   "metadata": {},
   "outputs": [
    {
     "name": "stdout",
     "output_type": "stream",
     "text": [
      "<class 'pandas.core.frame.DataFrame'>\n",
      "DatetimeIndex: 4496828 entries, 2020-02-22 23:59:59 to 2020-02-25 22:03:11\n",
      "Data columns (total 3 columns):\n",
      " #   Column         Dtype \n",
      "---  ------         ----- \n",
      " 0   device_id      string\n",
      " 1   motor_peak_mA  int64 \n",
      " 2   battery        int64 \n",
      "dtypes: int64(2), string(1)\n",
      "memory usage: 137.2 MB\n"
     ]
    }
   ],
   "source": [
    "filename = \"moontracer-dataset.csv\"\n",
    "data = pd.read_csv(filename, \n",
    "                   parse_dates = [\"timestamp\"], \n",
    "                   dtype = {\"device_id\":\"string\"}, \n",
    "                   index_col = \"timestamp\")\n",
    "data.info()"
   ]
  },
  {
   "cell_type": "markdown",
   "metadata": {},
   "source": [
    "Let's look at the first records to see if data as lodad correctly:"
   ]
  },
  {
   "cell_type": "code",
   "execution_count": 5,
   "metadata": {},
   "outputs": [
    {
     "data": {
      "text/html": [
       "<div>\n",
       "<style scoped>\n",
       "    .dataframe tbody tr th:only-of-type {\n",
       "        vertical-align: middle;\n",
       "    }\n",
       "\n",
       "    .dataframe tbody tr th {\n",
       "        vertical-align: top;\n",
       "    }\n",
       "\n",
       "    .dataframe thead th {\n",
       "        text-align: right;\n",
       "    }\n",
       "</style>\n",
       "<table border=\"1\" class=\"dataframe\">\n",
       "  <thead>\n",
       "    <tr style=\"text-align: right;\">\n",
       "      <th></th>\n",
       "      <th>device_id</th>\n",
       "      <th>motor_peak_mA</th>\n",
       "      <th>battery</th>\n",
       "    </tr>\n",
       "    <tr>\n",
       "      <th>timestamp</th>\n",
       "      <th></th>\n",
       "      <th></th>\n",
       "      <th></th>\n",
       "    </tr>\n",
       "  </thead>\n",
       "  <tbody>\n",
       "    <tr>\n",
       "      <th>2020-02-22 23:59:59</th>\n",
       "      <td>7517a917b42450470661cec1bd4654f8</td>\n",
       "      <td>1335</td>\n",
       "      <td>73</td>\n",
       "    </tr>\n",
       "    <tr>\n",
       "      <th>2020-02-22 23:59:59</th>\n",
       "      <td>8e4a851ed2317a249a0903f29d894361</td>\n",
       "      <td>1577</td>\n",
       "      <td>73</td>\n",
       "    </tr>\n",
       "    <tr>\n",
       "      <th>2020-02-22 23:59:59</th>\n",
       "      <td>572ddf9d82d5675ed2db832081b70103</td>\n",
       "      <td>1585</td>\n",
       "      <td>73</td>\n",
       "    </tr>\n",
       "    <tr>\n",
       "      <th>2020-02-22 23:59:59</th>\n",
       "      <td>b17bbc29ce61265a6212c689a597d4d8</td>\n",
       "      <td>0</td>\n",
       "      <td>73</td>\n",
       "    </tr>\n",
       "    <tr>\n",
       "      <th>2020-02-22 23:59:59</th>\n",
       "      <td>19d3c55b134ab7780d2b711211b7cf7c</td>\n",
       "      <td>1286</td>\n",
       "      <td>73</td>\n",
       "    </tr>\n",
       "  </tbody>\n",
       "</table>\n",
       "</div>"
      ],
      "text/plain": [
       "                                            device_id  motor_peak_mA  battery\n",
       "timestamp                                                                    \n",
       "2020-02-22 23:59:59  7517a917b42450470661cec1bd4654f8           1335       73\n",
       "2020-02-22 23:59:59  8e4a851ed2317a249a0903f29d894361           1577       73\n",
       "2020-02-22 23:59:59  572ddf9d82d5675ed2db832081b70103           1585       73\n",
       "2020-02-22 23:59:59  b17bbc29ce61265a6212c689a597d4d8              0       73\n",
       "2020-02-22 23:59:59  19d3c55b134ab7780d2b711211b7cf7c           1286       73"
      ]
     },
     "execution_count": 5,
     "metadata": {},
     "output_type": "execute_result"
    }
   ],
   "source": [
    "data.head()"
   ]
  },
  {
   "cell_type": "markdown",
   "metadata": {},
   "source": [
    "And basic statistics for each column:"
   ]
  },
  {
   "cell_type": "code",
   "execution_count": 6,
   "metadata": {},
   "outputs": [
    {
     "data": {
      "text/html": [
       "<div>\n",
       "<style scoped>\n",
       "    .dataframe tbody tr th:only-of-type {\n",
       "        vertical-align: middle;\n",
       "    }\n",
       "\n",
       "    .dataframe tbody tr th {\n",
       "        vertical-align: top;\n",
       "    }\n",
       "\n",
       "    .dataframe thead th {\n",
       "        text-align: right;\n",
       "    }\n",
       "</style>\n",
       "<table border=\"1\" class=\"dataframe\">\n",
       "  <thead>\n",
       "    <tr style=\"text-align: right;\">\n",
       "      <th></th>\n",
       "      <th>motor_peak_mA</th>\n",
       "      <th>battery</th>\n",
       "    </tr>\n",
       "    <tr>\n",
       "      <th>device_id</th>\n",
       "      <th></th>\n",
       "      <th></th>\n",
       "    </tr>\n",
       "  </thead>\n",
       "  <tbody>\n",
       "    <tr>\n",
       "      <th>0001495ce5f079703599a94c32dab2b0</th>\n",
       "      <td>124</td>\n",
       "      <td>124</td>\n",
       "    </tr>\n",
       "    <tr>\n",
       "      <th>00134c004e33e830e5dbce3355a485b9</th>\n",
       "      <td>121</td>\n",
       "      <td>121</td>\n",
       "    </tr>\n",
       "    <tr>\n",
       "      <th>0019400877c460d9b66298649162179d</th>\n",
       "      <td>124</td>\n",
       "      <td>124</td>\n",
       "    </tr>\n",
       "    <tr>\n",
       "      <th>001e70f66ab7a9d4bd6a5a074f288f0f</th>\n",
       "      <td>109</td>\n",
       "      <td>109</td>\n",
       "    </tr>\n",
       "    <tr>\n",
       "      <th>00211448f7814aea70f2c8d5aebd2aa9</th>\n",
       "      <td>116</td>\n",
       "      <td>116</td>\n",
       "    </tr>\n",
       "    <tr>\n",
       "      <th>...</th>\n",
       "      <td>...</td>\n",
       "      <td>...</td>\n",
       "    </tr>\n",
       "    <tr>\n",
       "      <th>ffe45f8328b406920ac3267ade0cdc90</th>\n",
       "      <td>123</td>\n",
       "      <td>123</td>\n",
       "    </tr>\n",
       "    <tr>\n",
       "      <th>ffe8ea2425f74fff2f23b5945f706b33</th>\n",
       "      <td>96</td>\n",
       "      <td>96</td>\n",
       "    </tr>\n",
       "    <tr>\n",
       "      <th>fff814f36d802edbcff9b2fff16907fd</th>\n",
       "      <td>122</td>\n",
       "      <td>122</td>\n",
       "    </tr>\n",
       "    <tr>\n",
       "      <th>fff844e4ff999c11cc6ffa9b46ab26c1</th>\n",
       "      <td>124</td>\n",
       "      <td>124</td>\n",
       "    </tr>\n",
       "    <tr>\n",
       "      <th>fffaee1fbb9c96703850f64d3262e843</th>\n",
       "      <td>124</td>\n",
       "      <td>124</td>\n",
       "    </tr>\n",
       "  </tbody>\n",
       "</table>\n",
       "<p>16947 rows × 2 columns</p>\n",
       "</div>"
      ],
      "text/plain": [
       "                                  motor_peak_mA  battery\n",
       "device_id                                               \n",
       "0001495ce5f079703599a94c32dab2b0            124      124\n",
       "00134c004e33e830e5dbce3355a485b9            121      121\n",
       "0019400877c460d9b66298649162179d            124      124\n",
       "001e70f66ab7a9d4bd6a5a074f288f0f            109      109\n",
       "00211448f7814aea70f2c8d5aebd2aa9            116      116\n",
       "...                                         ...      ...\n",
       "ffe45f8328b406920ac3267ade0cdc90            123      123\n",
       "ffe8ea2425f74fff2f23b5945f706b33             96       96\n",
       "fff814f36d802edbcff9b2fff16907fd            122      122\n",
       "fff844e4ff999c11cc6ffa9b46ab26c1            124      124\n",
       "fffaee1fbb9c96703850f64d3262e843            124      124\n",
       "\n",
       "[16947 rows x 2 columns]"
      ]
     },
     "execution_count": 6,
     "metadata": {},
     "output_type": "execute_result"
    }
   ],
   "source": [
    "data.groupby(\"device_id\").count()"
   ]
  },
  {
   "cell_type": "code",
   "execution_count": 7,
   "metadata": {},
   "outputs": [
    {
     "name": "stdout",
     "output_type": "stream",
     "text": [
      "Stored 'data' (DataFrame)\n"
     ]
    }
   ],
   "source": [
    "%store data"
   ]
  },
  {
   "cell_type": "code",
   "execution_count": 8,
   "metadata": {},
   "outputs": [
    {
     "name": "stdout",
     "output_type": "stream",
     "text": [
      "Stored 'rand_id' (str)\n",
      "Stored 'bucket' (str)\n"
     ]
    },
    {
     "data": {
      "text/plain": [
       "'mt-ml-workshop-wzejasmw'"
      ]
     },
     "execution_count": 8,
     "metadata": {},
     "output_type": "execute_result"
    }
   ],
   "source": [
    "import random\n",
    "import string \n",
    "\n",
    "rand_id = ''.join(random.choices(string.ascii_lowercase + string.digits, k=8))\n",
    "%store rand_id\n",
    "bucket = \"mt-ml-workshop-{}\".format(rand_id)\n",
    "%store bucket\n",
    "bucket"
   ]
  },
  {
   "cell_type": "code",
   "execution_count": 9,
   "metadata": {},
   "outputs": [
    {
     "name": "stdout",
     "output_type": "stream",
     "text": [
      "make_bucket: mt-ml-workshop-wzejasmw\r\n"
     ]
    }
   ],
   "source": [
    "!aws s3 mb \"s3://{bucket}\""
   ]
  },
  {
   "cell_type": "code",
   "execution_count": 10,
   "metadata": {},
   "outputs": [
    {
     "name": "stdout",
     "output_type": "stream",
     "text": [
      "upload: ./moontracer-dataset.csv to s3://mt-ml-workshop-wzejasmw/moontracer-dataset.csv\n"
     ]
    }
   ],
   "source": [
    "!aws s3 cp \"moontracer-dataset.csv\" \"s3://{bucket}/\""
   ]
  },
  {
   "cell_type": "code",
   "execution_count": 11,
   "metadata": {},
   "outputs": [
    {
     "name": "stdout",
     "output_type": "stream",
     "text": [
      "2020-05-13 12:54:23  265405696 moontracer-dataset.csv\r\n"
     ]
    }
   ],
   "source": [
    "!aws s3 ls \"s3://{bucket}\""
   ]
  }
 ],
 "metadata": {
  "kernelspec": {
   "display_name": "conda_python3",
   "language": "python",
   "name": "conda_python3"
  },
  "language_info": {
   "codemirror_mode": {
    "name": "ipython",
    "version": 3
   },
   "file_extension": ".py",
   "mimetype": "text/x-python",
   "name": "python",
   "nbconvert_exporter": "python",
   "pygments_lexer": "ipython3",
   "version": "3.6.5"
  }
 },
 "nbformat": 4,
 "nbformat_minor": 4
}
