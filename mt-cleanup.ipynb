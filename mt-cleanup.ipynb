{
 "cells": [
  {
   "cell_type": "markdown",
   "metadata": {},
   "source": [
    "Cleanup"
   ]
  },
  {
   "cell_type": "code",
   "execution_count": 2,
   "metadata": {},
   "outputs": [],
   "source": [
    "import boto3\n",
    "sagemaker = boto3.client('sagemaker')"
   ]
  },
  {
   "cell_type": "code",
   "execution_count": 3,
   "metadata": {},
   "outputs": [],
   "source": [
    "# Deleting Endpoints"
   ]
  },
  {
   "cell_type": "code",
   "execution_count": 4,
   "metadata": {},
   "outputs": [
    {
     "name": "stdout",
     "output_type": "stream",
     "text": [
      "Deleting endpoint mt-motor-anomaly-2020-05-13-16-17-37-246\n"
     ]
    }
   ],
   "source": [
    "def list_all_endpoints(next_token = None):\n",
    "    result = []\n",
    "    resp = {}\n",
    "    if next_token:\n",
    "        resp = sagemaker.list_endpoints(NextToken=next_token)\n",
    "    else:\n",
    "        resp = sagemaker.list_endpoints() \n",
    "    resources = resp[\"Endpoints\"]\n",
    "    for resource in resources:\n",
    "        result.append(resource)\n",
    "    next_token = resp.get(\"NextToken\")\n",
    "    if next_token:\n",
    "        return resources + list_all_endpoints(next_token)\n",
    "    else:\n",
    "        return resources\n",
    "\n",
    "def delete_all_endpoints():\n",
    "    for resource in list_all_endpoints():\n",
    "        resource_name = resource[\"EndpointName\"]\n",
    "        print(\"Deleting endpoint {}\".format(resource_name))\n",
    "        # WARN: Are you sure you want do delete endpoints?\n",
    "        # sagemaker.delete_endpoint(EndpointName=resource_name)\n",
    "        \n",
    "delete_all_endpoints()"
   ]
  },
  {
   "cell_type": "markdown",
   "metadata": {},
   "source": [
    "# Deleting models\n"
   ]
  },
  {
   "cell_type": "code",
   "execution_count": 6,
   "metadata": {},
   "outputs": [
    {
     "name": "stdout",
     "output_type": "stream",
     "text": [
      "Deleting model mt-motor-anomaly-2020-05-13-16-17-37-246\n",
      "Deleting model suntrack-ml-motor-forecast-rcf-2020-05-13-14-55-20-138\n",
      "Deleting model mt-battery-deepar-2020-05-13-14-12-41-848\n",
      "Deleting model mt-battery-deepar-2020-05-13-13-14-37-886\n",
      "Deleting model mt-battery-deepar-2020-05-13-11-15-43-947\n",
      "Deleting model mt-battery-deepar-2020-05-13-10-44-58-899\n",
      "Deleting model randomcutforest-2020-04-08-11-16-44-015\n",
      "Deleting model suntrack-battery-deepar-2020-04-08-11-09-30-101\n"
     ]
    }
   ],
   "source": [
    "def get_models(next_token = None):\n",
    "    result = []\n",
    "    models_resp = {}\n",
    "    if next_token:\n",
    "        models_resp = sagemaker.list_models(NextToken=next_token)\n",
    "    else:\n",
    "        models_resp = sagemaker.list_models() \n",
    "    models = models_resp[\"Models\"]\n",
    "    for model in models:\n",
    "        result.append(model)\n",
    "    next_token = models_resp.get(\"NextToken\")\n",
    "    if next_token:\n",
    "        return models + gen_models(next_token)\n",
    "    else:\n",
    "        return models\n",
    "\n",
    "def delete_all_models():\n",
    "    for model in get_models():\n",
    "        model_name = model[\"ModelName\"]\n",
    "        print(\"Deleting model {}\".format(model_name))\n",
    "        # WARN: Are you sure you want do delete models?\n",
    "        # sagemaker.delete_model(ModelName=model_name)\n",
    "        \n",
    "delete_all_models()"
   ]
  },
  {
   "cell_type": "code",
   "execution_count": null,
   "metadata": {},
   "outputs": [],
   "source": []
  }
 ],
 "metadata": {
  "kernelspec": {
   "display_name": "conda_python3",
   "language": "python",
   "name": "conda_python3"
  },
  "language_info": {
   "codemirror_mode": {
    "name": "ipython",
    "version": 3
   },
   "file_extension": ".py",
   "mimetype": "text/x-python",
   "name": "python",
   "nbconvert_exporter": "python",
   "pygments_lexer": "ipython3",
   "version": "3.6.5"
  }
 },
 "nbformat": 4,
 "nbformat_minor": 4
}
