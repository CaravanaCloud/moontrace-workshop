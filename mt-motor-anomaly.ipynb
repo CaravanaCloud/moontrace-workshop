{
 "cells": [
  {
   "cell_type": "markdown",
   "metadata": {},
   "source": [
    "# Detecting Motor Anomalies"
   ]
  },
  {
   "cell_type": "markdown",
   "metadata": {},
   "source": [
    "Preventing motor anomalies is a bit more complicated than battery issues. Usually, motors operate in a certain range of power, but sometimes they may present anomalous behavior. Their power consumption can go to high, due to environmental issues, or too low, due to aging issues."
   ]
  },
  {
   "cell_type": "markdown",
   "metadata": {},
   "source": [
    "As usual, let's start by recovering and looking at data:"
   ]
  },
  {
   "cell_type": "code",
   "execution_count": 21,
   "metadata": {},
   "outputs": [
    {
     "data": {
      "text/html": [
       "<div>\n",
       "<style scoped>\n",
       "    .dataframe tbody tr th:only-of-type {\n",
       "        vertical-align: middle;\n",
       "    }\n",
       "\n",
       "    .dataframe tbody tr th {\n",
       "        vertical-align: top;\n",
       "    }\n",
       "\n",
       "    .dataframe thead th {\n",
       "        text-align: right;\n",
       "    }\n",
       "</style>\n",
       "<table border=\"1\" class=\"dataframe\">\n",
       "  <thead>\n",
       "    <tr style=\"text-align: right;\">\n",
       "      <th></th>\n",
       "      <th>device_id</th>\n",
       "      <th>motor_peak_mA</th>\n",
       "      <th>battery</th>\n",
       "    </tr>\n",
       "    <tr>\n",
       "      <th>timestamp</th>\n",
       "      <th></th>\n",
       "      <th></th>\n",
       "      <th></th>\n",
       "    </tr>\n",
       "  </thead>\n",
       "  <tbody>\n",
       "    <tr>\n",
       "      <th>2020-02-22 23:59:59</th>\n",
       "      <td>7517a917b42450470661cec1bd4654f8</td>\n",
       "      <td>1335</td>\n",
       "      <td>73</td>\n",
       "    </tr>\n",
       "    <tr>\n",
       "      <th>2020-02-22 23:59:59</th>\n",
       "      <td>8e4a851ed2317a249a0903f29d894361</td>\n",
       "      <td>1577</td>\n",
       "      <td>73</td>\n",
       "    </tr>\n",
       "    <tr>\n",
       "      <th>2020-02-22 23:59:59</th>\n",
       "      <td>572ddf9d82d5675ed2db832081b70103</td>\n",
       "      <td>1585</td>\n",
       "      <td>73</td>\n",
       "    </tr>\n",
       "    <tr>\n",
       "      <th>2020-02-22 23:59:59</th>\n",
       "      <td>b17bbc29ce61265a6212c689a597d4d8</td>\n",
       "      <td>0</td>\n",
       "      <td>73</td>\n",
       "    </tr>\n",
       "    <tr>\n",
       "      <th>2020-02-22 23:59:59</th>\n",
       "      <td>19d3c55b134ab7780d2b711211b7cf7c</td>\n",
       "      <td>1286</td>\n",
       "      <td>73</td>\n",
       "    </tr>\n",
       "  </tbody>\n",
       "</table>\n",
       "</div>"
      ],
      "text/plain": [
       "                                            device_id  motor_peak_mA  battery\n",
       "timestamp                                                                    \n",
       "2020-02-22 23:59:59  7517a917b42450470661cec1bd4654f8           1335       73\n",
       "2020-02-22 23:59:59  8e4a851ed2317a249a0903f29d894361           1577       73\n",
       "2020-02-22 23:59:59  572ddf9d82d5675ed2db832081b70103           1585       73\n",
       "2020-02-22 23:59:59  b17bbc29ce61265a6212c689a597d4d8              0       73\n",
       "2020-02-22 23:59:59  19d3c55b134ab7780d2b711211b7cf7c           1286       73"
      ]
     },
     "execution_count": 21,
     "metadata": {},
     "output_type": "execute_result"
    }
   ],
   "source": [
    "%store -r data\n",
    "data.head()"
   ]
  },
  {
   "cell_type": "code",
   "execution_count": 22,
   "metadata": {},
   "outputs": [
    {
     "data": {
      "text/plain": [
       "'mt-ml-workshop-yuixc09t'"
      ]
     },
     "execution_count": 22,
     "metadata": {},
     "output_type": "execute_result"
    }
   ],
   "source": [
    "%store -r bucket\n",
    "bucket"
   ]
  },
  {
   "cell_type": "markdown",
   "metadata": {},
   "source": [
    "# Exploratory Data Analysis"
   ]
  },
  {
   "cell_type": "code",
   "execution_count": 23,
   "metadata": {},
   "outputs": [
    {
     "data": {
      "text/html": [
       "<div>\n",
       "<style scoped>\n",
       "    .dataframe tbody tr th:only-of-type {\n",
       "        vertical-align: middle;\n",
       "    }\n",
       "\n",
       "    .dataframe tbody tr th {\n",
       "        vertical-align: top;\n",
       "    }\n",
       "\n",
       "    .dataframe thead th {\n",
       "        text-align: right;\n",
       "    }\n",
       "</style>\n",
       "<table border=\"1\" class=\"dataframe\">\n",
       "  <thead>\n",
       "    <tr style=\"text-align: right;\">\n",
       "      <th></th>\n",
       "      <th>motor_peak_mA</th>\n",
       "    </tr>\n",
       "    <tr>\n",
       "      <th>timestamp</th>\n",
       "      <th></th>\n",
       "    </tr>\n",
       "  </thead>\n",
       "  <tbody>\n",
       "    <tr>\n",
       "      <th>2020-02-22 23:59:59</th>\n",
       "      <td>1335</td>\n",
       "    </tr>\n",
       "    <tr>\n",
       "      <th>2020-02-22 23:59:59</th>\n",
       "      <td>1577</td>\n",
       "    </tr>\n",
       "    <tr>\n",
       "      <th>2020-02-22 23:59:59</th>\n",
       "      <td>1585</td>\n",
       "    </tr>\n",
       "    <tr>\n",
       "      <th>2020-02-22 23:59:59</th>\n",
       "      <td>1286</td>\n",
       "    </tr>\n",
       "    <tr>\n",
       "      <th>2020-02-22 23:59:59</th>\n",
       "      <td>1796</td>\n",
       "    </tr>\n",
       "  </tbody>\n",
       "</table>\n",
       "</div>"
      ],
      "text/plain": [
       "                     motor_peak_mA\n",
       "timestamp                         \n",
       "2020-02-22 23:59:59           1335\n",
       "2020-02-22 23:59:59           1577\n",
       "2020-02-22 23:59:59           1585\n",
       "2020-02-22 23:59:59           1286\n",
       "2020-02-22 23:59:59           1796"
      ]
     },
     "execution_count": 23,
     "metadata": {},
     "output_type": "execute_result"
    }
   ],
   "source": [
    "train_data = data[[\"motor_peak_mA\"]]\n",
    "train_data = train_data[train_data[\"motor_peak_mA\"] > 0]\n",
    "train_data.head()"
   ]
  },
  {
   "cell_type": "code",
   "execution_count": 24,
   "metadata": {},
   "outputs": [
    {
     "data": {
      "text/html": [
       "<div>\n",
       "<style scoped>\n",
       "    .dataframe tbody tr th:only-of-type {\n",
       "        vertical-align: middle;\n",
       "    }\n",
       "\n",
       "    .dataframe tbody tr th {\n",
       "        vertical-align: top;\n",
       "    }\n",
       "\n",
       "    .dataframe thead th {\n",
       "        text-align: right;\n",
       "    }\n",
       "</style>\n",
       "<table border=\"1\" class=\"dataframe\">\n",
       "  <thead>\n",
       "    <tr style=\"text-align: right;\">\n",
       "      <th></th>\n",
       "      <th>motor_peak_mA</th>\n",
       "    </tr>\n",
       "  </thead>\n",
       "  <tbody>\n",
       "    <tr>\n",
       "      <th>count</th>\n",
       "      <td>3.079934e+06</td>\n",
       "    </tr>\n",
       "    <tr>\n",
       "      <th>mean</th>\n",
       "      <td>5.250616e+02</td>\n",
       "    </tr>\n",
       "    <tr>\n",
       "      <th>std</th>\n",
       "      <td>6.858781e+02</td>\n",
       "    </tr>\n",
       "    <tr>\n",
       "      <th>min</th>\n",
       "      <td>9.000000e+00</td>\n",
       "    </tr>\n",
       "    <tr>\n",
       "      <th>25%</th>\n",
       "      <td>1.000000e+01</td>\n",
       "    </tr>\n",
       "    <tr>\n",
       "      <th>50%</th>\n",
       "      <td>2.100000e+01</td>\n",
       "    </tr>\n",
       "    <tr>\n",
       "      <th>75%</th>\n",
       "      <td>7.970000e+02</td>\n",
       "    </tr>\n",
       "    <tr>\n",
       "      <th>max</th>\n",
       "      <td>7.730000e+03</td>\n",
       "    </tr>\n",
       "  </tbody>\n",
       "</table>\n",
       "</div>"
      ],
      "text/plain": [
       "       motor_peak_mA\n",
       "count   3.079934e+06\n",
       "mean    5.250616e+02\n",
       "std     6.858781e+02\n",
       "min     9.000000e+00\n",
       "25%     1.000000e+01\n",
       "50%     2.100000e+01\n",
       "75%     7.970000e+02\n",
       "max     7.730000e+03"
      ]
     },
     "execution_count": 24,
     "metadata": {},
     "output_type": "execute_result"
    }
   ],
   "source": [
    "train_data.describe()"
   ]
  },
  {
   "cell_type": "markdown",
   "metadata": {},
   "source": [
    "train_data.info()"
   ]
  },
  {
   "cell_type": "code",
   "execution_count": 25,
   "metadata": {},
   "outputs": [
    {
     "data": {
      "text/plain": [
       "<AxesSubplot:xlabel='timestamp'>"
      ]
     },
     "execution_count": 25,
     "metadata": {},
     "output_type": "execute_result"
    },
    {
     "data": {
      "image/png": "[encoded data removed]",
      "text/plain": [
       "<Figure size 432x288 with 1 Axes>"
      ]
     },
     "metadata": {
      "needs_background": "light"
     },
     "output_type": "display_data"
    }
   ],
   "source": [
    "import matplotlib.pyplot as plt\n",
    "train_data.plot(rot=30)"
   ]
  },
  {
   "cell_type": "markdown",
   "metadata": {},
   "source": [
    "## Synthetic Ground Truth"
   ]
  },
  {
   "cell_type": "code",
   "execution_count": 26,
   "metadata": {},
   "outputs": [
    {
     "name": "stdout",
     "output_type": "stream",
     "text": [
      "<class 'pandas.core.frame.DataFrame'>\n",
      "DatetimeIndex: 3079934 entries, 2020-02-22 23:59:59 to 2020-02-25 22:03:11\n",
      "Data columns (total 1 columns):\n",
      " #   Column         Dtype\n",
      "---  ------         -----\n",
      " 0   motor_peak_mA  int64\n",
      "dtypes: int64(1)\n",
      "memory usage: 47.0 MB\n"
     ]
    }
   ],
   "source": [
    "anomalies = data[[\"motor_peak_mA\"]]\n",
    "anomalies = anomalies[anomalies[\"motor_peak_mA\"] > 0]\n",
    "anomalies.info()"
   ]
  },
  {
   "cell_type": "code",
   "execution_count": 27,
   "metadata": {},
   "outputs": [],
   "source": [
    "from sklearn.model_selection import train_test_split\n",
    "\n",
    "train_data, test_dataframe = train_test_split(anomalies, test_size=0.2)"
   ]
  },
  {
   "cell_type": "code",
   "execution_count": 28,
   "metadata": {},
   "outputs": [
    {
     "data": {
      "text/html": [
       "<div>\n",
       "<style scoped>\n",
       "    .dataframe tbody tr th:only-of-type {\n",
       "        vertical-align: middle;\n",
       "    }\n",
       "\n",
       "    .dataframe tbody tr th {\n",
       "        vertical-align: top;\n",
       "    }\n",
       "\n",
       "    .dataframe thead th {\n",
       "        text-align: right;\n",
       "    }\n",
       "</style>\n",
       "<table border=\"1\" class=\"dataframe\">\n",
       "  <thead>\n",
       "    <tr style=\"text-align: right;\">\n",
       "      <th></th>\n",
       "      <th>motor_peak_mA</th>\n",
       "    </tr>\n",
       "    <tr>\n",
       "      <th>anomaly</th>\n",
       "      <th></th>\n",
       "    </tr>\n",
       "  </thead>\n",
       "  <tbody>\n",
       "    <tr>\n",
       "      <th>0</th>\n",
       "      <td>615630</td>\n",
       "    </tr>\n",
       "    <tr>\n",
       "      <th>1</th>\n",
       "      <td>357</td>\n",
       "    </tr>\n",
       "  </tbody>\n",
       "</table>\n",
       "</div>"
      ],
      "text/plain": [
       "         motor_peak_mA\n",
       "anomaly               \n",
       "0               615630\n",
       "1                  357"
      ]
     },
     "execution_count": 28,
     "metadata": {},
     "output_type": "execute_result"
    }
   ],
   "source": [
    "test_data = test_dataframe.copy()\n",
    "test_data[\"anomaly\"] = test_data[\"motor_peak_mA\"] > 4000\n",
    "test_data[\"anomaly\"] = test_data[\"anomaly\"] | (test_data[\"motor_peak_mA\"] > 50) & (test_data[\"motor_peak_mA\"] < 200)\n",
    "test_data[\"anomaly\"] = test_data[\"anomaly\"].astype(int) \n",
    "test_data.groupby(\"anomaly\").count().head()"
   ]
  },
  {
   "cell_type": "code",
   "execution_count": 29,
   "metadata": {},
   "outputs": [
    {
     "data": {
      "text/html": [
       "<div>\n",
       "<style scoped>\n",
       "    .dataframe tbody tr th:only-of-type {\n",
       "        vertical-align: middle;\n",
       "    }\n",
       "\n",
       "    .dataframe tbody tr th {\n",
       "        vertical-align: top;\n",
       "    }\n",
       "\n",
       "    .dataframe thead th {\n",
       "        text-align: right;\n",
       "    }\n",
       "</style>\n",
       "<table border=\"1\" class=\"dataframe\">\n",
       "  <thead>\n",
       "    <tr style=\"text-align: right;\">\n",
       "      <th></th>\n",
       "      <th>motor_peak_mA</th>\n",
       "      <th>anomaly</th>\n",
       "    </tr>\n",
       "  </thead>\n",
       "  <tbody>\n",
       "    <tr>\n",
       "      <th>count</th>\n",
       "      <td>615987.000000</td>\n",
       "      <td>615987.000000</td>\n",
       "    </tr>\n",
       "    <tr>\n",
       "      <th>mean</th>\n",
       "      <td>524.780765</td>\n",
       "      <td>0.000580</td>\n",
       "    </tr>\n",
       "    <tr>\n",
       "      <th>std</th>\n",
       "      <td>685.004389</td>\n",
       "      <td>0.024067</td>\n",
       "    </tr>\n",
       "    <tr>\n",
       "      <th>min</th>\n",
       "      <td>9.000000</td>\n",
       "      <td>0.000000</td>\n",
       "    </tr>\n",
       "    <tr>\n",
       "      <th>25%</th>\n",
       "      <td>10.000000</td>\n",
       "      <td>0.000000</td>\n",
       "    </tr>\n",
       "    <tr>\n",
       "      <th>50%</th>\n",
       "      <td>21.000000</td>\n",
       "      <td>0.000000</td>\n",
       "    </tr>\n",
       "    <tr>\n",
       "      <th>75%</th>\n",
       "      <td>796.000000</td>\n",
       "      <td>0.000000</td>\n",
       "    </tr>\n",
       "    <tr>\n",
       "      <th>max</th>\n",
       "      <td>7730.000000</td>\n",
       "      <td>1.000000</td>\n",
       "    </tr>\n",
       "  </tbody>\n",
       "</table>\n",
       "</div>"
      ],
      "text/plain": [
       "       motor_peak_mA        anomaly\n",
       "count  615987.000000  615987.000000\n",
       "mean      524.780765       0.000580\n",
       "std       685.004389       0.024067\n",
       "min         9.000000       0.000000\n",
       "25%        10.000000       0.000000\n",
       "50%        21.000000       0.000000\n",
       "75%       796.000000       0.000000\n",
       "max      7730.000000       1.000000"
      ]
     },
     "execution_count": 29,
     "metadata": {},
     "output_type": "execute_result"
    }
   ],
   "source": [
    "test_data.describe()"
   ]
  },
  {
   "cell_type": "code",
   "execution_count": 30,
   "metadata": {},
   "outputs": [
    {
     "data": {
      "text/html": [
       "<div>\n",
       "<style scoped>\n",
       "    .dataframe tbody tr th:only-of-type {\n",
       "        vertical-align: middle;\n",
       "    }\n",
       "\n",
       "    .dataframe tbody tr th {\n",
       "        vertical-align: top;\n",
       "    }\n",
       "\n",
       "    .dataframe thead th {\n",
       "        text-align: right;\n",
       "    }\n",
       "</style>\n",
       "<table border=\"1\" class=\"dataframe\">\n",
       "  <thead>\n",
       "    <tr style=\"text-align: right;\">\n",
       "      <th></th>\n",
       "      <th>motor_peak_mA</th>\n",
       "    </tr>\n",
       "  </thead>\n",
       "  <tbody>\n",
       "    <tr>\n",
       "      <th>count</th>\n",
       "      <td>2.463947e+06</td>\n",
       "    </tr>\n",
       "    <tr>\n",
       "      <th>mean</th>\n",
       "      <td>5.251318e+02</td>\n",
       "    </tr>\n",
       "    <tr>\n",
       "      <th>std</th>\n",
       "      <td>6.860965e+02</td>\n",
       "    </tr>\n",
       "    <tr>\n",
       "      <th>min</th>\n",
       "      <td>9.000000e+00</td>\n",
       "    </tr>\n",
       "    <tr>\n",
       "      <th>25%</th>\n",
       "      <td>1.000000e+01</td>\n",
       "    </tr>\n",
       "    <tr>\n",
       "      <th>50%</th>\n",
       "      <td>2.100000e+01</td>\n",
       "    </tr>\n",
       "    <tr>\n",
       "      <th>75%</th>\n",
       "      <td>7.980000e+02</td>\n",
       "    </tr>\n",
       "    <tr>\n",
       "      <th>max</th>\n",
       "      <td>6.820000e+03</td>\n",
       "    </tr>\n",
       "  </tbody>\n",
       "</table>\n",
       "</div>"
      ],
      "text/plain": [
       "       motor_peak_mA\n",
       "count   2.463947e+06\n",
       "mean    5.251318e+02\n",
       "std     6.860965e+02\n",
       "min     9.000000e+00\n",
       "25%     1.000000e+01\n",
       "50%     2.100000e+01\n",
       "75%     7.980000e+02\n",
       "max     6.820000e+03"
      ]
     },
     "execution_count": 30,
     "metadata": {},
     "output_type": "execute_result"
    }
   ],
   "source": [
    "train_data.describe()"
   ]
  },
  {
   "cell_type": "markdown",
   "metadata": {},
   "source": [
    "# Random Cut Forest Training"
   ]
  },
  {
   "cell_type": "code",
   "execution_count": 31,
   "metadata": {},
   "outputs": [
    {
     "data": {
      "text/plain": [
       "array([[   9],\n",
       "       [ 376],\n",
       "       [1425],\n",
       "       ...,\n",
       "       [1657],\n",
       "       [ 768],\n",
       "       [  21]])"
      ]
     },
     "execution_count": 31,
     "metadata": {},
     "output_type": "execute_result"
    }
   ],
   "source": [
    "train_array = train_data.values\n",
    "train_array"
   ]
  },
  {
   "cell_type": "code",
   "execution_count": 32,
   "metadata": {},
   "outputs": [
    {
     "data": {
      "text/plain": [
       "array([[  10],\n",
       "       [   9],\n",
       "       [1361],\n",
       "       ...,\n",
       "       [  10],\n",
       "       [  10],\n",
       "       [   9]])"
      ]
     },
     "execution_count": 32,
     "metadata": {},
     "output_type": "execute_result"
    }
   ],
   "source": [
    "test_array = test_data[[\"motor_peak_mA\"]].values\n",
    "test_array"
   ]
  },
  {
   "cell_type": "code",
   "execution_count": 33,
   "metadata": {},
   "outputs": [
    {
     "data": {
      "text/plain": [
       "array([0, 0, 0, ..., 0, 0, 0])"
      ]
     },
     "execution_count": 33,
     "metadata": {},
     "output_type": "execute_result"
    }
   ],
   "source": [
    "labels_array = test_data[\"anomaly\"].values\n",
    "labels_array"
   ]
  },
  {
   "cell_type": "code",
   "execution_count": 37,
   "metadata": {},
   "outputs": [],
   "source": [
    "import io\n",
    "import numpy as np\n",
    "import sagemaker\n",
    "import sagemaker.amazon.common as smac\n",
    "import boto3\n",
    "\n",
    "s3bucket = boto3.resource('s3').Bucket(bucket)\n",
    "\n",
    "def upload_records(array,key,labels=None):\n",
    "    result = {} \n",
    "    buf = io.BytesIO()\n",
    "    if (labels is not None):\n",
    "        smac.write_numpy_to_dense_tensor(buf, array, labels)\n",
    "    else:\n",
    "        smac.write_numpy_to_dense_tensor(buf, array)\n",
    "    buf.seek(0)\n",
    "    s3bucket.Object(key).upload_fileobj(buf)\n"
   ]
  },
  {
   "cell_type": "code",
   "execution_count": 38,
   "metadata": {},
   "outputs": [
    {
     "data": {
      "text/plain": [
       "{'train': <sagemaker.inputs.TrainingInput at 0x7f6320046c88>,\n",
       " 'test': <sagemaker.inputs.TrainingInput at 0x7f62f2a43240>}"
      ]
     },
     "execution_count": 38,
     "metadata": {},
     "output_type": "execute_result"
    }
   ],
   "source": [
    "import os\n",
    "\n",
    "s3 = boto3.client(\"s3\")\n",
    "prefix = \"mt-motor-anomaly\" \n",
    "\n",
    "cwd = os.getcwd()\n",
    "train_key  = \"{}/input/{}\".format(prefix,\"train.rio\")\n",
    "test_key  = \"{}/input/{}\".format(prefix, \"test.rio\")\n",
    "\n",
    "upload_records(train_array,train_key)\n",
    "upload_records(test_array,test_key,labels_array)\n",
    "\n",
    "train_input = sagemaker.inputs.TrainingInput(\n",
    "       s3_data=\"s3://{}/{}\".format(bucket,train_key),\n",
    "       content_type='application/x-recordio-protobuf',\n",
    "       distribution='ShardedByS3Key')\n",
    "\n",
    "test_input = sagemaker.inputs.TrainingInput(\n",
    "       s3_data=\"s3://{}/{}\".format(bucket,test_key),\n",
    "       content_type='application/x-recordio-protobuf',\n",
    "       distribution='FullyReplicated')\n",
    "\n",
    "rcf_input = {\n",
    "    'train': train_input,\n",
    "    'test': test_input     \n",
    "}\n",
    "\n",
    "rcf_input"
   ]
  },
  {
   "cell_type": "markdown",
   "metadata": {},
   "source": [
    "# RCF Training"
   ]
  },
  {
   "cell_type": "code",
   "execution_count": 39,
   "metadata": {},
   "outputs": [
    {
     "data": {
      "text/plain": [
       "'174872318107.dkr.ecr.us-west-2.amazonaws.com/randomcutforest:1'"
      ]
     },
     "execution_count": 39,
     "metadata": {},
     "output_type": "execute_result"
    }
   ],
   "source": [
    "region = boto3.Session().region_name\n",
    "from sagemaker.amazon.amazon_estimator import get_image_uri\n",
    "\n",
    "region = boto3.Session().region_name\n",
    "rcf_container = sagemaker.image_uris.retrieve('randomcutforest', region)\n",
    "rcf_container"
   ]
  },
  {
   "cell_type": "code",
   "execution_count": 40,
   "metadata": {},
   "outputs": [],
   "source": [
    "rcf_hparams = {\n",
    "    \"num_samples_per_tree\":512,\n",
    "    \"num_trees\":50,\n",
    "    \"feature_dim\":1,\n",
    "    \"eval_metrics\": \"accuracy\"\n",
    "}"
   ]
  },
  {
   "cell_type": "code",
   "execution_count": 42,
   "metadata": {},
   "outputs": [],
   "source": [
    "rcf_estimator = sagemaker.estimator.Estimator(\n",
    "                      rcf_container,\n",
    "                      role=sagemaker.get_execution_role(),\n",
    "                      instance_count=1,\n",
    "                      instance_type='ml.m5.large',\n",
    "                      base_job_name=\"mt-motor-anomaly\",\n",
    "                      output_path='s3://{}/{}/output'.format(bucket, prefix),\n",
    "                      hyperparameters = rcf_hparams )"
   ]
  },
  {
   "cell_type": "code",
   "execution_count": 43,
   "metadata": {},
   "outputs": [
    {
     "name": "stdout",
     "output_type": "stream",
     "text": [
      "2021-05-14 09:28:00 Starting - Starting the training job...\n",
      "2021-05-14 09:28:24 Starting - Launching requested ML instancesProfilerReport-1620984480: InProgress\n",
      "......\n",
      "2021-05-14 09:29:24 Starting - Preparing the instances for training......\n",
      "2021-05-14 09:30:27 Downloading - Downloading input data\n",
      "2021-05-14 09:30:27 Training - Downloading the training image......\n",
      "2021-05-14 09:31:27 Training - Training image download completed. Training in progress..\u001b[34mDocker entrypoint called with argument(s): train\u001b[0m\n",
      "\u001b[34mRunning default environment configuration script\u001b[0m\n",
      "\u001b[34m[05/14/2021 09:31:31 INFO 140391792658240] Reading default configuration from /opt/amazon/lib/python3.7/site-packages/algorithm/resources/default-conf.json: {'num_samples_per_tree': 256, 'num_trees': 100, 'force_dense': 'true', 'eval_metrics': ['accuracy', 'precision_recall_fscore'], 'epochs': 1, 'mini_batch_size': 1000, '_log_level': 'info', '_kvstore': 'dist_async', '_num_kv_servers': 'auto', '_num_gpus': 'auto', '_tuning_objective_metric': '', '_ftp_port': 8999}\u001b[0m\n",
      "\u001b[34m[05/14/2021 09:31:31 INFO 140391792658240] Merging with provided configuration from /opt/ml/input/config/hyperparameters.json: {'num_trees': '50', 'num_samples_per_tree': '512', 'feature_dim': '1', 'eval_metrics': 'accuracy'}\u001b[0m\n",
      "\u001b[34m[05/14/2021 09:31:31 INFO 140391792658240] Final configuration: {'num_samples_per_tree': '512', 'num_trees': '50', 'force_dense': 'true', 'eval_metrics': 'accuracy', 'epochs': 1, 'mini_batch_size': 1000, '_log_level': 'info', '_kvstore': 'dist_async', '_num_kv_servers': 'auto', '_num_gpus': 'auto', '_tuning_objective_metric': '', '_ftp_port': 8999, 'feature_dim': '1'}\u001b[0m\n",
      "\u001b[34m[05/14/2021 09:31:31 WARNING 140391792658240] Loggers have already been setup.\u001b[0m\n",
      "\u001b[34m[05/14/2021 09:31:31 INFO 140391792658240] Launching parameter server for role scheduler\u001b[0m\n",
      "\u001b[34m[05/14/2021 09:31:31 INFO 140391792658240] {'ENVROOT': '/opt/amazon', 'PROTOCOL_BUFFERS_PYTHON_IMPLEMENTATION': 'cpp', 'HOSTNAME': 'ip-10-0-75-62.us-west-2.compute.internal', 'TRAINING_JOB_NAME': 'mt-motor-anomaly-2021-05-14-09-28-00-719', 'NVIDIA_REQUIRE_CUDA': 'cuda>=9.0', 'TRAINING_JOB_ARN': 'arn:aws:sagemaker:us-west-2:053081517504:training-job/mt-motor-anomaly-2021-05-14-09-28-00-719', 'AWS_CONTAINER_CREDENTIALS_RELATIVE_URI': '/v2/credentials/121bae82-8224-4da6-9928-9dc61bc4a7e4', 'CANONICAL_ENVROOT': '/opt/amazon', 'PYTHONUNBUFFERED': 'TRUE', 'NVIDIA_VISIBLE_DEVICES': 'void', 'LD_LIBRARY_PATH': '/opt/amazon/lib/python3.7/site-packages/cv2/../../../../lib:/usr/local/nvidia/lib64:/opt/amazon/lib', 'MXNET_KVSTORE_BIGARRAY_BOUND': '400000000', 'NVIDIA_DRIVER_CAPABILITIES': 'compute,utility', 'AWS_EXECUTION_ENV': 'AWS_ECS_EC2', 'PATH': '/opt/amazon/bin:/usr/local/nvidia/bin:/usr/local/sbin:/usr/local/bin:/usr/sbin:/usr/bin:/sbin:/bin:/opt/amazon/bin:/opt/amazon/bin', 'PWD': '/', 'LANG': 'en_US.utf8', 'SAGEMAKER_METRICS_DIRECTORY': '/opt/ml/output/metrics/sagemaker', 'AWS_REGION': 'us-west-2', 'HOME': '/root', 'SHLVL': '1', 'PROTOCOL_BUFFERS_PYTHON_IMPLEMENTATION_VERSION': '2', 'OMP_NUM_THREADS': '1', 'DMLC_INTERFACE': 'eth0', 'ECS_CONTAINER_METADATA_URI': 'http://169.254.170.2/v3/b4d00843-496f-4ca5-9ddb-fbe9b4627944', 'ECS_CONTAINER_METADATA_URI_V4': 'http://169.254.170.2/v4/b4d00843-496f-4ca5-9ddb-fbe9b4627944', 'SAGEMAKER_HTTP_PORT': '8080', 'SAGEMAKER_DATA_PATH': '/opt/ml', 'KMP_DUPLICATE_LIB_OK': 'True', 'KMP_INIT_AT_FORK': 'FALSE'}\u001b[0m\n",
      "\u001b[34m[05/14/2021 09:31:31 INFO 140391792658240] envs={'ENVROOT': '/opt/amazon', 'PROTOCOL_BUFFERS_PYTHON_IMPLEMENTATION': 'cpp', 'HOSTNAME': 'ip-10-0-75-62.us-west-2.compute.internal', 'TRAINING_JOB_NAME': 'mt-motor-anomaly-2021-05-14-09-28-00-719', 'NVIDIA_REQUIRE_CUDA': 'cuda>=9.0', 'TRAINING_JOB_ARN': 'arn:aws:sagemaker:us-west-2:053081517504:training-job/mt-motor-anomaly-2021-05-14-09-28-00-719', 'AWS_CONTAINER_CREDENTIALS_RELATIVE_URI': '/v2/credentials/121bae82-8224-4da6-9928-9dc61bc4a7e4', 'CANONICAL_ENVROOT': '/opt/amazon', 'PYTHONUNBUFFERED': 'TRUE', 'NVIDIA_VISIBLE_DEVICES': 'void', 'LD_LIBRARY_PATH': '/opt/amazon/lib/python3.7/site-packages/cv2/../../../../lib:/usr/local/nvidia/lib64:/opt/amazon/lib', 'MXNET_KVSTORE_BIGARRAY_BOUND': '400000000', 'NVIDIA_DRIVER_CAPABILITIES': 'compute,utility', 'AWS_EXECUTION_ENV': 'AWS_ECS_EC2', 'PATH': '/opt/amazon/bin:/usr/local/nvidia/bin:/usr/local/sbin:/usr/local/bin:/usr/sbin:/usr/bin:/sbin:/bin:/opt/amazon/bin:/opt/amazon/bin', 'PWD': '/', 'LANG': 'en_US.utf8', 'SAGEMAKER_METRICS_DIRECTORY': '/opt/ml/output/metrics/sagemaker', 'AWS_REGION': 'us-west-2', 'HOME': '/root', 'SHLVL': '1', 'PROTOCOL_BUFFERS_PYTHON_IMPLEMENTATION_VERSION': '2', 'OMP_NUM_THREADS': '1', 'DMLC_INTERFACE': 'eth0', 'ECS_CONTAINER_METADATA_URI': 'http://169.254.170.2/v3/b4d00843-496f-4ca5-9ddb-fbe9b4627944', 'ECS_CONTAINER_METADATA_URI_V4': 'http://169.254.170.2/v4/b4d00843-496f-4ca5-9ddb-fbe9b4627944', 'SAGEMAKER_HTTP_PORT': '8080', 'SAGEMAKER_DATA_PATH': '/opt/ml', 'KMP_DUPLICATE_LIB_OK': 'True', 'KMP_INIT_AT_FORK': 'FALSE', 'DMLC_ROLE': 'scheduler', 'DMLC_PS_ROOT_URI': '10.0.75.62', 'DMLC_PS_ROOT_PORT': '9000', 'DMLC_NUM_SERVER': '1', 'DMLC_NUM_WORKER': '1'}\u001b[0m\n",
      "\u001b[34m[05/14/2021 09:31:31 INFO 140391792658240] Launching parameter server for role server\u001b[0m\n",
      "\u001b[34m[05/14/2021 09:31:31 INFO 140391792658240] {'ENVROOT': '/opt/amazon', 'PROTOCOL_BUFFERS_PYTHON_IMPLEMENTATION': 'cpp', 'HOSTNAME': 'ip-10-0-75-62.us-west-2.compute.internal', 'TRAINING_JOB_NAME': 'mt-motor-anomaly-2021-05-14-09-28-00-719', 'NVIDIA_REQUIRE_CUDA': 'cuda>=9.0', 'TRAINING_JOB_ARN': 'arn:aws:sagemaker:us-west-2:053081517504:training-job/mt-motor-anomaly-2021-05-14-09-28-00-719', 'AWS_CONTAINER_CREDENTIALS_RELATIVE_URI': '/v2/credentials/121bae82-8224-4da6-9928-9dc61bc4a7e4', 'CANONICAL_ENVROOT': '/opt/amazon', 'PYTHONUNBUFFERED': 'TRUE', 'NVIDIA_VISIBLE_DEVICES': 'void', 'LD_LIBRARY_PATH': '/opt/amazon/lib/python3.7/site-packages/cv2/../../../../lib:/usr/local/nvidia/lib64:/opt/amazon/lib', 'MXNET_KVSTORE_BIGARRAY_BOUND': '400000000', 'NVIDIA_DRIVER_CAPABILITIES': 'compute,utility', 'AWS_EXECUTION_ENV': 'AWS_ECS_EC2', 'PATH': '/opt/amazon/bin:/usr/local/nvidia/bin:/usr/local/sbin:/usr/local/bin:/usr/sbin:/usr/bin:/sbin:/bin:/opt/amazon/bin:/opt/amazon/bin', 'PWD': '/', 'LANG': 'en_US.utf8', 'SAGEMAKER_METRICS_DIRECTORY': '/opt/ml/output/metrics/sagemaker', 'AWS_REGION': 'us-west-2', 'HOME': '/root', 'SHLVL': '1', 'PROTOCOL_BUFFERS_PYTHON_IMPLEMENTATION_VERSION': '2', 'OMP_NUM_THREADS': '1', 'DMLC_INTERFACE': 'eth0', 'ECS_CONTAINER_METADATA_URI': 'http://169.254.170.2/v3/b4d00843-496f-4ca5-9ddb-fbe9b4627944', 'ECS_CONTAINER_METADATA_URI_V4': 'http://169.254.170.2/v4/b4d00843-496f-4ca5-9ddb-fbe9b4627944', 'SAGEMAKER_HTTP_PORT': '8080', 'SAGEMAKER_DATA_PATH': '/opt/ml', 'KMP_DUPLICATE_LIB_OK': 'True', 'KMP_INIT_AT_FORK': 'FALSE'}\u001b[0m\n",
      "\u001b[34m[05/14/2021 09:31:31 INFO 140391792658240] envs={'ENVROOT': '/opt/amazon', 'PROTOCOL_BUFFERS_PYTHON_IMPLEMENTATION': 'cpp', 'HOSTNAME': 'ip-10-0-75-62.us-west-2.compute.internal', 'TRAINING_JOB_NAME': 'mt-motor-anomaly-2021-05-14-09-28-00-719', 'NVIDIA_REQUIRE_CUDA': 'cuda>=9.0', 'TRAINING_JOB_ARN': 'arn:aws:sagemaker:us-west-2:053081517504:training-job/mt-motor-anomaly-2021-05-14-09-28-00-719', 'AWS_CONTAINER_CREDENTIALS_RELATIVE_URI': '/v2/credentials/121bae82-8224-4da6-9928-9dc61bc4a7e4', 'CANONICAL_ENVROOT': '/opt/amazon', 'PYTHONUNBUFFERED': 'TRUE', 'NVIDIA_VISIBLE_DEVICES': 'void', 'LD_LIBRARY_PATH': '/opt/amazon/lib/python3.7/site-packages/cv2/../../../../lib:/usr/local/nvidia/lib64:/opt/amazon/lib', 'MXNET_KVSTORE_BIGARRAY_BOUND': '400000000', 'NVIDIA_DRIVER_CAPABILITIES': 'compute,utility', 'AWS_EXECUTION_ENV': 'AWS_ECS_EC2', 'PATH': '/opt/amazon/bin:/usr/local/nvidia/bin:/usr/local/sbin:/usr/local/bin:/usr/sbin:/usr/bin:/sbin:/bin:/opt/amazon/bin:/opt/amazon/bin', 'PWD': '/', 'LANG': 'en_US.utf8', 'SAGEMAKER_METRICS_DIRECTORY': '/opt/ml/output/metrics/sagemaker', 'AWS_REGION': 'us-west-2', 'HOME': '/root', 'SHLVL': '1', 'PROTOCOL_BUFFERS_PYTHON_IMPLEMENTATION_VERSION': '2', 'OMP_NUM_THREADS': '1', 'DMLC_INTERFACE': 'eth0', 'ECS_CONTAINER_METADATA_URI': 'http://169.254.170.2/v3/b4d00843-496f-4ca5-9ddb-fbe9b4627944', 'ECS_CONTAINER_METADATA_URI_V4': 'http://169.254.170.2/v4/b4d00843-496f-4ca5-9ddb-fbe9b4627944', 'SAGEMAKER_HTTP_PORT': '8080', 'SAGEMAKER_DATA_PATH': '/opt/ml', 'KMP_DUPLICATE_LIB_OK': 'True', 'KMP_INIT_AT_FORK': 'FALSE', 'DMLC_ROLE': 'server', 'DMLC_PS_ROOT_URI': '10.0.75.62', 'DMLC_PS_ROOT_PORT': '9000', 'DMLC_NUM_SERVER': '1', 'DMLC_NUM_WORKER': '1'}\u001b[0m\n",
      "\u001b[34m[05/14/2021 09:31:31 INFO 140391792658240] Environment: {'ENVROOT': '/opt/amazon', 'PROTOCOL_BUFFERS_PYTHON_IMPLEMENTATION': 'cpp', 'HOSTNAME': 'ip-10-0-75-62.us-west-2.compute.internal', 'TRAINING_JOB_NAME': 'mt-motor-anomaly-2021-05-14-09-28-00-719', 'NVIDIA_REQUIRE_CUDA': 'cuda>=9.0', 'TRAINING_JOB_ARN': 'arn:aws:sagemaker:us-west-2:053081517504:training-job/mt-motor-anomaly-2021-05-14-09-28-00-719', 'AWS_CONTAINER_CREDENTIALS_RELATIVE_URI': '/v2/credentials/121bae82-8224-4da6-9928-9dc61bc4a7e4', 'CANONICAL_ENVROOT': '/opt/amazon', 'PYTHONUNBUFFERED': 'TRUE', 'NVIDIA_VISIBLE_DEVICES': 'void', 'LD_LIBRARY_PATH': '/opt/amazon/lib/python3.7/site-packages/cv2/../../../../lib:/usr/local/nvidia/lib64:/opt/amazon/lib', 'MXNET_KVSTORE_BIGARRAY_BOUND': '400000000', 'NVIDIA_DRIVER_CAPABILITIES': 'compute,utility', 'AWS_EXECUTION_ENV': 'AWS_ECS_EC2', 'PATH': '/opt/amazon/bin:/usr/local/nvidia/bin:/usr/local/sbin:/usr/local/bin:/usr/sbin:/usr/bin:/sbin:/bin:/opt/amazon/bin:/opt/amazon/bin', 'PWD': '/', 'LANG': 'en_US.utf8', 'SAGEMAKER_METRICS_DIRECTORY': '/opt/ml/output/metrics/sagemaker', 'AWS_REGION': 'us-west-2', 'HOME': '/root', 'SHLVL': '1', 'PROTOCOL_BUFFERS_PYTHON_IMPLEMENTATION_VERSION': '2', 'OMP_NUM_THREADS': '1', 'DMLC_INTERFACE': 'eth0', 'ECS_CONTAINER_METADATA_URI': 'http://169.254.170.2/v3/b4d00843-496f-4ca5-9ddb-fbe9b4627944', 'ECS_CONTAINER_METADATA_URI_V4': 'http://169.254.170.2/v4/b4d00843-496f-4ca5-9ddb-fbe9b4627944', 'SAGEMAKER_HTTP_PORT': '8080', 'SAGEMAKER_DATA_PATH': '/opt/ml', 'KMP_DUPLICATE_LIB_OK': 'True', 'KMP_INIT_AT_FORK': 'FALSE', 'DMLC_ROLE': 'worker', 'DMLC_PS_ROOT_URI': '10.0.75.62', 'DMLC_PS_ROOT_PORT': '9000', 'DMLC_NUM_SERVER': '1', 'DMLC_NUM_WORKER': '1'}\u001b[0m\n",
      "\u001b[34mProcess 32 is a shell:scheduler.\u001b[0m\n",
      "\u001b[34mProcess 41 is a shell:server.\u001b[0m\n",
      "\u001b[34mProcess 1 is a worker.\u001b[0m\n",
      "\u001b[34m[05/14/2021 09:31:31 INFO 140391792658240] Using default worker.\u001b[0m\n",
      "\u001b[34m[05/14/2021 09:31:31 INFO 140391792658240] Loaded iterator creator application/x-recordio-protobuf for content type ('application/x-recordio-protobuf', '1.0')\u001b[0m\n",
      "\u001b[34m[05/14/2021 09:31:31 INFO 140391792658240] Checkpoint loading and saving are disabled.\u001b[0m\n",
      "\u001b[34m[2021-05-14 09:31:31.616] [tensorio] [warning] TensorIO is already initialized; ignoring the initialization routine.\u001b[0m\n",
      "\u001b[34m[05/14/2021 09:31:31 INFO 140391792658240] Verifying hyperparamemters...\u001b[0m\n",
      "\u001b[34m[05/14/2021 09:31:31 INFO 140391792658240] Hyperparameters are correct.\u001b[0m\n",
      "\u001b[34m[05/14/2021 09:31:31 INFO 140391792658240] Validating that feature_dim agrees with dimensions in training data...\u001b[0m\n",
      "\u001b[34m[05/14/2021 09:31:31 INFO 140391792658240] feature_dim is correct.\u001b[0m\n",
      "\u001b[34m[05/14/2021 09:31:31 INFO 140391792658240] Validating memory limits...\u001b[0m\n",
      "\u001b[34m[05/14/2021 09:31:31 INFO 140391792658240] Available memory in bytes: 6543753216\u001b[0m\n",
      "\u001b[34m[05/14/2021 09:31:31 INFO 140391792658240] Estimated sample size in bytes: 204800\u001b[0m\n",
      "\u001b[34m[05/14/2021 09:31:31 INFO 140391792658240] Estimated memory needed to build the forest in bytes: 1024000\u001b[0m\n",
      "\u001b[34m[05/14/2021 09:31:31 INFO 140391792658240] Memory limits validated.\u001b[0m\n",
      "\u001b[34m[05/14/2021 09:31:31 INFO 140391792658240] Starting cluster sharing facilities...\u001b[0m\n",
      "\u001b[34m[05/14/2021 09:31:31 INFO 140391792658240] Create Store: dist_async\u001b[0m\n",
      "\u001b[34m[I 21-05-14 09:31:31] >>> starting FTP server on 0.0.0.0:8999, pid=1 <<<\u001b[0m\n",
      "\u001b[34m[05/14/2021 09:31:31 INFO 140390309021440] >>> starting FTP server on 0.0.0.0:8999, pid=1 <<<\u001b[0m\n",
      "\u001b[34m[I 21-05-14 09:31:31] poller: <class 'pyftpdlib.ioloop.Epoll'>\u001b[0m\n",
      "\u001b[34m[05/14/2021 09:31:31 INFO 140390309021440] poller: <class 'pyftpdlib.ioloop.Epoll'>\u001b[0m\n",
      "\u001b[34m[I 21-05-14 09:31:31] masquerade (NAT) address: None\u001b[0m\n",
      "\u001b[34m[05/14/2021 09:31:31 INFO 140390309021440] masquerade (NAT) address: None\u001b[0m\n",
      "\u001b[34m[I 21-05-14 09:31:31] passive ports: None\u001b[0m\n",
      "\u001b[34m[05/14/2021 09:31:31 INFO 140390309021440] passive ports: None\u001b[0m\n",
      "\u001b[34m[I 21-05-14 09:31:31] use sendfile(2): True\u001b[0m\n",
      "\u001b[34m[05/14/2021 09:31:31 INFO 140390309021440] use sendfile(2): True\u001b[0m\n",
      "\u001b[34m[05/14/2021 09:31:33 INFO 140391792658240] Cluster sharing facilities started.\u001b[0m\n",
      "\u001b[34m[05/14/2021 09:31:33 INFO 140391792658240] Verifying all workers are accessible...\u001b[0m\n",
      "\u001b[34m[05/14/2021 09:31:33 INFO 140391792658240] All workers accessible.\u001b[0m\n",
      "\u001b[34m[05/14/2021 09:31:33 INFO 140391792658240] Initializing Sampler...\u001b[0m\n",
      "\u001b[34m[05/14/2021 09:31:33 INFO 140391792658240] Sampler correctly initialized.\u001b[0m\n",
      "\u001b[34m#metrics {\"StartTime\": 1620984691.600495, \"EndTime\": 1620984693.1230233, \"Dimensions\": {\"Algorithm\": \"RandomCutForest\", \"Host\": \"algo-1\", \"Operation\": \"training\"}, \"Metrics\": {\"initialize.time\": {\"sum\": 1496.9379901885986, \"count\": 1, \"min\": 1496.9379901885986, \"max\": 1496.9379901885986}}}\n",
      "\u001b[0m\n",
      "\u001b[34m#metrics {\"StartTime\": 1620984693.1232579, \"EndTime\": 1620984693.1232922, \"Dimensions\": {\"Algorithm\": \"RandomCutForest\", \"Host\": \"algo-1\", \"Operation\": \"training\", \"Meta\": \"init_train_data_iter\"}, \"Metrics\": {\"Total Records Seen\": {\"sum\": 0.0, \"count\": 1, \"min\": 0, \"max\": 0}, \"Total Batches Seen\": {\"sum\": 0.0, \"count\": 1, \"min\": 0, \"max\": 0}, \"Max Records Seen Between Resets\": {\"sum\": 0.0, \"count\": 1, \"min\": 0, \"max\": 0}, \"Max Batches Seen Between Resets\": {\"sum\": 0.0, \"count\": 1, \"min\": 0, \"max\": 0}, \"Reset Count\": {\"sum\": 0.0, \"count\": 1, \"min\": 0, \"max\": 0}, \"Number of Records Since Last Reset\": {\"sum\": 0.0, \"count\": 1, \"min\": 0, \"max\": 0}, \"Number of Batches Since Last Reset\": {\"sum\": 0.0, \"count\": 1, \"min\": 0, \"max\": 0}}}\n",
      "\u001b[0m\n",
      "\u001b[34m[2021-05-14 09:31:33.126] [tensorio] [info] epoch_stats={\"data_pipeline\": \"/opt/ml/input/data/train\", \"epoch\": 0, \"duration\": 1524, \"num_examples\": 1, \"num_bytes\": 28000}\u001b[0m\n",
      "\u001b[34m[05/14/2021 09:31:33 INFO 140391792658240] Sampling training data...\u001b[0m\n",
      "\u001b[34m[2021-05-14 09:31:36.014] [tensorio] [info] epoch_stats={\"data_pipeline\": \"/opt/ml/input/data/train\", \"epoch\": 1, \"duration\": 2887, \"num_examples\": 2464, \"num_bytes\": 68990516}\u001b[0m\n",
      "\u001b[34m[05/14/2021 09:31:36 INFO 140391792658240] Sampling training data completed.\u001b[0m\n",
      "\u001b[34m#metrics {\"StartTime\": 1620984693.1231375, \"EndTime\": 1620984696.0202365, \"Dimensions\": {\"Algorithm\": \"RandomCutForest\", \"Host\": \"algo-1\", \"Operation\": \"training\"}, \"Metrics\": {\"epochs\": {\"sum\": 1.0, \"count\": 1, \"min\": 1, \"max\": 1}, \"update.time\": {\"sum\": 2893.9743041992188, \"count\": 1, \"min\": 2893.9743041992188, \"max\": 2893.9743041992188}}}\n",
      "\u001b[0m\n",
      "\u001b[34m[05/14/2021 09:31:36 INFO 140391792658240] Early stop condition met. Stopping training.\u001b[0m\n",
      "\u001b[34m[05/14/2021 09:31:36 INFO 140391792658240] #progress_metric: host=algo-1, completed 100 % epochs\u001b[0m\n",
      "\u001b[34m#metrics {\"StartTime\": 1620984693.126232, \"EndTime\": 1620984696.0208752, \"Dimensions\": {\"Algorithm\": \"RandomCutForest\", \"Host\": \"algo-1\", \"Operation\": \"training\", \"epoch\": 0, \"Meta\": \"training_data_iter\"}, \"Metrics\": {\"Total Records Seen\": {\"sum\": 2463947.0, \"count\": 1, \"min\": 2463947, \"max\": 2463947}, \"Total Batches Seen\": {\"sum\": 2464.0, \"count\": 1, \"min\": 2464, \"max\": 2464}, \"Max Records Seen Between Resets\": {\"sum\": 2463947.0, \"count\": 1, \"min\": 2463947, \"max\": 2463947}, \"Max Batches Seen Between Resets\": {\"sum\": 2464.0, \"count\": 1, \"min\": 2464, \"max\": 2464}, \"Reset Count\": {\"sum\": 1.0, \"count\": 1, \"min\": 1, \"max\": 1}, \"Number of Records Since Last Reset\": {\"sum\": 2463947.0, \"count\": 1, \"min\": 2463947, \"max\": 2463947}, \"Number of Batches Since Last Reset\": {\"sum\": 2464.0, \"count\": 1, \"min\": 2464, \"max\": 2464}}}\n",
      "\u001b[0m\n",
      "\u001b[34m[05/14/2021 09:31:36 INFO 140391792658240] #throughput_metric: host=algo-1, train throughput=851172.3890923548 records/second\u001b[0m\n",
      "\u001b[34m[05/14/2021 09:31:36 INFO 140391792658240] Master node: building Random Cut Forest...\u001b[0m\n",
      "\u001b[34m[05/14/2021 09:31:36 INFO 140391792658240] Gathering samples...\u001b[0m\n",
      "\u001b[34m[05/14/2021 09:31:36 INFO 140391792658240] 25600 samples gathered\u001b[0m\n",
      "\u001b[34m[05/14/2021 09:31:36 INFO 140391792658240] Building Random Cut Forest...\u001b[0m\n",
      "\u001b[34m[05/14/2021 09:31:36 INFO 140391792658240] Random Cut Forest built: \n",
      "\u001b[0m\n",
      "\u001b[34mForestInfo{num_trees: 50, num_samples_in_forest: 25600, num_samples_per_tree: 512, sample_dim: 1, shingle_size: 1, trees_num_nodes: [491, 447, 463, 497, 459, 493, 463, 463, 493, 477, 467, 457, 477, 461, 485, 461, 511, 475, 467, 493, 461, 445, 479, 441, 487, 469, 469, 441, 499, 449, 425, 475, 489, 443, 451, 453, 467, 439, 451, 473, 449, 451, 481, 429, 459, 491, 495, 501, 455, 495, ], trees_depth: [25, 22, 20, 20, 18, 17, 26, 23, 19, 16, 18, 19, 17, 17, 17, 18, 24, 21, 17, 17, 18, 17, 19, 18, 23, 20, 19, 19, 21, 18, 22, 18, 17, 16, 18, 17, 21, 22, 19, 18, 18, 19, 17, 14, 16, 17, 19, 20, 17, 16, ], max_num_nodes: 511, min_num_nodes: 425, avg_num_nodes: 468, max_tree_depth: 26, min_tree_depth: 14, avg_tree_depth: 18, mem_size: 2435296}\u001b[0m\n",
      "\u001b[34m#metrics {\"StartTime\": 1620984696.0203767, \"EndTime\": 1620984696.0373833, \"Dimensions\": {\"Algorithm\": \"RandomCutForest\", \"Host\": \"algo-1\", \"Operation\": \"training\"}, \"Metrics\": {\"fit_model.time\": {\"sum\": 9.313583374023438, \"count\": 1, \"min\": 9.313583374023438, \"max\": 9.313583374023438}, \"model.bytes\": {\"sum\": 2435296.0, \"count\": 1, \"min\": 2435296, \"max\": 2435296}, \"finalize.time\": {\"sum\": 16.08443260192871, \"count\": 1, \"min\": 16.08443260192871, \"max\": 16.08443260192871}}}\n",
      "\u001b[0m\n",
      "\u001b[34m[05/14/2021 09:31:36 INFO 140391792658240] Master node: Serializing the RandomCutForest model\u001b[0m\n",
      "\u001b[34m#metrics {\"StartTime\": 1620984696.0374537, \"EndTime\": 1620984696.0607285, \"Dimensions\": {\"Algorithm\": \"RandomCutForest\", \"Host\": \"algo-1\", \"Operation\": \"training\"}, \"Metrics\": {\"serialize_model.time\": {\"sum\": 23.236751556396484, \"count\": 1, \"min\": 23.236751556396484, \"max\": 23.236751556396484}}}\n",
      "\u001b[0m\n",
      "\u001b[34m[05/14/2021 09:31:36 INFO 140391792658240] Labels shape [DataDesc[out_label,(1000,),<class 'numpy.int32'>,NCHW]]\u001b[0m\n",
      "\u001b[34m[2021-05-14 09:31:36.061] [tensorio] [info] epoch_stats={\"data_pipeline\": \"/opt/ml/input/data/test\", \"epoch\": 0, \"duration\": 4444, \"num_examples\": 1, \"num_bytes\": 44000}\u001b[0m\n",
      "\u001b[34m[2021-05-14 09:31:42.580] [tensorio] [info] epoch_stats={\"data_pipeline\": \"/opt/ml/input/data/test\", \"epoch\": 2, \"duration\": 6518, \"num_examples\": 616, \"num_bytes\": 27103428}\u001b[0m\n",
      "\u001b[34m#metrics {\"StartTime\": 1620984696.0607874, \"EndTime\": 1620984702.5802462, \"Dimensions\": {\"Algorithm\": \"RandomCutForest\", \"Host\": \"algo-1\", \"Operation\": \"training\"}, \"Metrics\": {\"evaluate.time\": {\"sum\": 6518.741846084595, \"count\": 1, \"min\": 6518.741846084595, \"max\": 6518.741846084595}}}\n",
      "\u001b[0m\n",
      "\u001b[34m[2021-05-14 09:31:43.446] [tensorio] [info] epoch_stats={\"data_pipeline\": \"/opt/ml/input/data/test\", \"epoch\": 4, \"duration\": 802, \"num_examples\": 616, \"num_bytes\": 27103428}\u001b[0m\n",
      "\u001b[34m[05/14/2021 09:31:43 INFO 140391792658240] #precision_recall_fscore: [('precision', 0.03595890410958904), ('negative_precision', 1.0), ('recall', 1.0), ('negative_recall', 0.9844533242369605), ('f1', 0.06942148760330577), ('negative_f1', 0.9921657639546562)]\u001b[0m\n",
      "\u001b[34m[05/14/2021 09:31:43 INFO 140391792658240] #accuracy: [('accuracy', 0.9844623344323825)]\u001b[0m\n",
      "\u001b[34m#metrics {\"StartTime\": 1620984702.5803342, \"EndTime\": 1620984703.7826452, \"Dimensions\": {\"Algorithm\": \"RandomCutForest\", \"Host\": \"algo-1\", \"Operation\": \"training\"}, \"Metrics\": {\"score.time\": {\"sum\": 7721.543312072754, \"count\": 1, \"min\": 7721.543312072754, \"max\": 7721.543312072754}}}\n",
      "\u001b[0m\n",
      "\u001b[34m#metrics {\"StartTime\": 1620984696.0610714, \"EndTime\": 1620984703.7827935, \"Dimensions\": {\"Algorithm\": \"RandomCutForest\", \"Host\": \"algo-1\", \"Operation\": \"training\", \"Meta\": \"test_data_iter\"}, \"Metrics\": {\"Total Records Seen\": {\"sum\": 1232974.0, \"count\": 1, \"min\": 1232974, \"max\": 1232974}, \"Total Batches Seen\": {\"sum\": 1233.0, \"count\": 1, \"min\": 1233, \"max\": 1233}, \"Max Records Seen Between Resets\": {\"sum\": 615987.0, \"count\": 1, \"min\": 615987, \"max\": 615987}, \"Max Batches Seen Between Resets\": {\"sum\": 616.0, \"count\": 1, \"min\": 616, \"max\": 616}, \"Reset Count\": {\"sum\": 3.0, \"count\": 1, \"min\": 3, \"max\": 3}, \"Number of Records Since Last Reset\": {\"sum\": 615987.0, \"count\": 1, \"min\": 615987, \"max\": 615987}, \"Number of Batches Since Last Reset\": {\"sum\": 616.0, \"count\": 1, \"min\": 616, \"max\": 616}}}\n",
      "\u001b[0m\n",
      "\u001b[34m[05/14/2021 09:31:43 INFO 140391792658240] #test_score (algo-1) : ('precision', 0.03595890410958904)\u001b[0m\n",
      "\u001b[34m[05/14/2021 09:31:43 INFO 140391792658240] #test_score (algo-1) : ('negative_precision', 1.0)\u001b[0m\n",
      "\u001b[34m[05/14/2021 09:31:43 INFO 140391792658240] #test_score (algo-1) : ('recall', 1.0)\u001b[0m\n",
      "\u001b[34m[05/14/2021 09:31:43 INFO 140391792658240] #test_score (algo-1) : ('negative_recall', 0.9844533242369605)\u001b[0m\n",
      "\u001b[34m[05/14/2021 09:31:43 INFO 140391792658240] #test_score (algo-1) : ('f1', 0.06942148760330577)\u001b[0m\n",
      "\u001b[34m[05/14/2021 09:31:43 INFO 140391792658240] #test_score (algo-1) : ('negative_f1', 0.9921657639546562)\u001b[0m\n",
      "\u001b[34m[05/14/2021 09:31:43 INFO 140391792658240] #test_score (algo-1) : ('accuracy', 0.9844623344323825)\u001b[0m\n",
      "\u001b[34m[05/14/2021 09:31:43 INFO 140391792658240] #quality_metric: host=algo-1, test f1 <score>=0.06942148760330577\u001b[0m\n",
      "\u001b[34m[I 21-05-14 09:31:43] >>> shutting down FTP server (0 active fds) <<<\u001b[0m\n",
      "\u001b[34m[05/14/2021 09:31:43 INFO 140390309021440] >>> shutting down FTP server (0 active fds) <<<\u001b[0m\n",
      "\u001b[34m#metrics {\"StartTime\": 1620984703.7827308, \"EndTime\": 1620984703.8453946, \"Dimensions\": {\"Algorithm\": \"RandomCutForest\", \"Host\": \"algo-1\", \"Operation\": \"training\"}, \"Metrics\": {\"setuptime\": {\"sum\": 532.7358245849609, \"count\": 1, \"min\": 532.7358245849609, \"max\": 532.7358245849609}, \"totaltime\": {\"sum\": 12787.294864654541, \"count\": 1, \"min\": 12787.294864654541, \"max\": 12787.294864654541}}}\n",
      "\u001b[0m\n",
      "\n",
      "2021-05-14 09:31:52 Uploading - Uploading generated training model\n",
      "2021-05-14 09:31:52 Completed - Training job completed\n",
      "Training seconds: 96\n",
      "Billable seconds: 96\n"
     ]
    }
   ],
   "source": [
    "rcf_estimator.fit(rcf_input)"
   ]
  },
  {
   "cell_type": "code",
   "execution_count": 44,
   "metadata": {},
   "outputs": [
    {
     "name": "stdout",
     "output_type": "stream",
     "text": [
      "Training job name: mt-motor-anomaly-2021-05-14-09-28-00-719\n"
     ]
    }
   ],
   "source": [
    "print('Training job name: {}'.format(rcf_estimator.latest_training_job.job_name))"
   ]
  },
  {
   "cell_type": "code",
   "execution_count": 45,
   "metadata": {},
   "outputs": [
    {
     "name": "stdout",
     "output_type": "stream",
     "text": [
      "---------------!"
     ]
    }
   ],
   "source": [
    "rcf_inference = rcf_estimator.deploy(\n",
    "    initial_instance_count=1,\n",
    "    instance_type='ml.m5.large',\n",
    ")"
   ]
  },
  {
   "cell_type": "code",
   "execution_count": 48,
   "metadata": {},
   "outputs": [
    {
     "name": "stdout",
     "output_type": "stream",
     "text": [
      "Stored 'rcf_inference_endpoint' (str)\n"
     ]
    },
    {
     "data": {
      "text/plain": [
       "'mt-motor-anomaly-2021-05-14-09-34-07-728'"
      ]
     },
     "execution_count": 48,
     "metadata": {},
     "output_type": "execute_result"
    }
   ],
   "source": [
    "rcf_inference_endpoint = rcf_inference.endpoint_name\n",
    "%store rcf_inference_endpoint\n",
    "rcf_inference_endpoint"
   ]
  },
  {
   "cell_type": "code",
   "execution_count": 50,
   "metadata": {},
   "outputs": [],
   "source": [
    "from sagemaker.predictor import csv_serializer, json_deserializer\n",
    "\n",
    "\n",
    "rcf_inference.serializer = sagemaker.serializers.CSVSerializer()\n",
    "rcf_inference.deserializer = sagemaker.deserializers.JSONDeserializer()"
   ]
  },
  {
   "cell_type": "code",
   "execution_count": 51,
   "metadata": {},
   "outputs": [
    {
     "data": {
      "text/plain": [
       "array([[   9],\n",
       "       [ 376],\n",
       "       [1425],\n",
       "       [   9],\n",
       "       [  10]])"
      ]
     },
     "execution_count": 51,
     "metadata": {},
     "output_type": "execute_result"
    }
   ],
   "source": [
    "sample_data = train_data[:5].values\n",
    "sample_data"
   ]
  },
  {
   "cell_type": "code",
   "execution_count": 52,
   "metadata": {},
   "outputs": [
    {
     "data": {
      "text/plain": [
       "{'scores': [{'score': 0.7336624496},\n",
       "  {'score': 0.8975967338},\n",
       "  {'score': 0.8770466595},\n",
       "  {'score': 0.7336624496},\n",
       "  {'score': 0.7292955209}]}"
      ]
     },
     "execution_count": 52,
     "metadata": {},
     "output_type": "execute_result"
    }
   ],
   "source": [
    "results = rcf_inference.predict(sample_data)\n",
    "results"
   ]
  },
  {
   "cell_type": "code",
   "execution_count": 53,
   "metadata": {},
   "outputs": [
    {
     "data": {
      "text/plain": [
       "(0.79425276268, 0.8975967338, 0.08528865847142635, 0.8795414211514263)"
      ]
     },
     "execution_count": 53,
     "metadata": {},
     "output_type": "execute_result"
    }
   ],
   "source": [
    "import pandas as pd\n",
    "sigmas = 1\n",
    "\n",
    "scores = results[\"scores\"]\n",
    "scores = [score[\"score\"] for score in scores]\n",
    "series = pd.Series(scores)\n",
    "score_mean = series.mean()\n",
    "score_max = series.max()\n",
    "score_std = series.std()\n",
    "score_cutoff = score_mean + sigmas*score_std\n",
    "(score_mean,score_max,score_std,score_cutoff)"
   ]
  },
  {
   "cell_type": "code",
   "execution_count": 54,
   "metadata": {},
   "outputs": [
    {
     "data": {
      "text/plain": [
       "1    0.897597\n",
       "dtype: float64"
      ]
     },
     "execution_count": 54,
     "metadata": {},
     "output_type": "execute_result"
    }
   ],
   "source": [
    "anomalies = series[series > score_cutoff ]  \n",
    "anomalies"
   ]
  },
  {
   "cell_type": "code",
   "execution_count": 55,
   "metadata": {},
   "outputs": [
    {
     "data": {
      "text/plain": [
       "'1 anomalies detected'"
      ]
     },
     "execution_count": 55,
     "metadata": {},
     "output_type": "execute_result"
    }
   ],
   "source": [
    "\"{} anomalies detected\".format(len(anomalies))"
   ]
  },
  {
   "cell_type": "markdown",
   "metadata": {},
   "source": [
    "## Motor Maintenance"
   ]
  },
  {
   "cell_type": "markdown",
   "metadata": {},
   "source": [
    "Now that we can detect anomalies in past data, let's combine that with forecasting for predictive [motor maintenance](mt-motor-maintenance.ipynb)."
   ]
  }
 ],
 "metadata": {
  "instance_type": "ml.t3.medium",
  "kernelspec": {
   "display_name": "Python 3 (Base Python)",
   "language": "python",
   "name": "python3__SAGEMAKER_INTERNAL__arn:aws:sagemaker:us-west-2:236514542706:image/python-3.6"
  },
  "language_info": {
   "codemirror_mode": {
    "name": "ipython",
    "version": 3
   },
   "file_extension": ".py",
   "mimetype": "text/x-python",
   "name": "python",
   "nbconvert_exporter": "python",
   "pygments_lexer": "ipython3",
   "version": "3.6.12"
  }
 },
 "nbformat": 4,
 "nbformat_minor": 4
}
