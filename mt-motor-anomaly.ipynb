{
 "cells": [
  {
   "cell_type": "markdown",
   "metadata": {},
   "source": [
    "# Detecting Motor Anomalies"
   ]
  },
  {
   "cell_type": "markdown",
   "metadata": {},
   "source": [
    "Preventing motor anomalies is a bit more complicated than battery issues. Usually, motors operate in a certain range of power, but sometimes they may present anomalous behavior. Their power consumption can go to high, due to environmental issues, or too low, due to aging issues."
   ]
  },
  {
   "cell_type": "markdown",
   "metadata": {},
   "source": [
    "As usual, let's start by recovering and looking at data:"
   ]
  },
  {
   "cell_type": "code",
   "execution_count": 1,
   "metadata": {},
   "outputs": [
    {
     "data": {
      "text/html": [
       "<div>\n",
       "<style scoped>\n",
       "    .dataframe tbody tr th:only-of-type {\n",
       "        vertical-align: middle;\n",
       "    }\n",
       "\n",
       "    .dataframe tbody tr th {\n",
       "        vertical-align: top;\n",
       "    }\n",
       "\n",
       "    .dataframe thead th {\n",
       "        text-align: right;\n",
       "    }\n",
       "</style>\n",
       "<table border=\"1\" class=\"dataframe\">\n",
       "  <thead>\n",
       "    <tr style=\"text-align: right;\">\n",
       "      <th></th>\n",
       "      <th>device_id</th>\n",
       "      <th>motor_peak_mA</th>\n",
       "      <th>battery</th>\n",
       "    </tr>\n",
       "    <tr>\n",
       "      <th>timestamp</th>\n",
       "      <th></th>\n",
       "      <th></th>\n",
       "      <th></th>\n",
       "    </tr>\n",
       "  </thead>\n",
       "  <tbody>\n",
       "    <tr>\n",
       "      <th>2020-02-22 23:59:59</th>\n",
       "      <td>7517a917b42450470661cec1bd4654f8</td>\n",
       "      <td>1335</td>\n",
       "      <td>73</td>\n",
       "    </tr>\n",
       "    <tr>\n",
       "      <th>2020-02-22 23:59:59</th>\n",
       "      <td>8e4a851ed2317a249a0903f29d894361</td>\n",
       "      <td>1577</td>\n",
       "      <td>73</td>\n",
       "    </tr>\n",
       "    <tr>\n",
       "      <th>2020-02-22 23:59:59</th>\n",
       "      <td>572ddf9d82d5675ed2db832081b70103</td>\n",
       "      <td>1585</td>\n",
       "      <td>73</td>\n",
       "    </tr>\n",
       "    <tr>\n",
       "      <th>2020-02-22 23:59:59</th>\n",
       "      <td>b17bbc29ce61265a6212c689a597d4d8</td>\n",
       "      <td>0</td>\n",
       "      <td>73</td>\n",
       "    </tr>\n",
       "    <tr>\n",
       "      <th>2020-02-22 23:59:59</th>\n",
       "      <td>19d3c55b134ab7780d2b711211b7cf7c</td>\n",
       "      <td>1286</td>\n",
       "      <td>73</td>\n",
       "    </tr>\n",
       "  </tbody>\n",
       "</table>\n",
       "</div>"
      ],
      "text/plain": [
       "                                            device_id  motor_peak_mA  battery\n",
       "timestamp                                                                    \n",
       "2020-02-22 23:59:59  7517a917b42450470661cec1bd4654f8           1335       73\n",
       "2020-02-22 23:59:59  8e4a851ed2317a249a0903f29d894361           1577       73\n",
       "2020-02-22 23:59:59  572ddf9d82d5675ed2db832081b70103           1585       73\n",
       "2020-02-22 23:59:59  b17bbc29ce61265a6212c689a597d4d8              0       73\n",
       "2020-02-22 23:59:59  19d3c55b134ab7780d2b711211b7cf7c           1286       73"
      ]
     },
     "execution_count": 1,
     "metadata": {},
     "output_type": "execute_result"
    }
   ],
   "source": [
    "%store -r data\n",
    "data.head()"
   ]
  },
  {
   "cell_type": "code",
   "execution_count": 2,
   "metadata": {},
   "outputs": [
    {
     "data": {
      "text/plain": [
       "'mt-ml-workshop-wzejasmw'"
      ]
     },
     "execution_count": 2,
     "metadata": {},
     "output_type": "execute_result"
    }
   ],
   "source": [
    "%store -r bucket\n",
    "bucket"
   ]
  },
  {
   "cell_type": "markdown",
   "metadata": {},
   "source": [
    "# Exploratory Data Analysis"
   ]
  },
  {
   "cell_type": "code",
   "execution_count": 3,
   "metadata": {},
   "outputs": [
    {
     "data": {
      "text/html": [
       "<div>\n",
       "<style scoped>\n",
       "    .dataframe tbody tr th:only-of-type {\n",
       "        vertical-align: middle;\n",
       "    }\n",
       "\n",
       "    .dataframe tbody tr th {\n",
       "        vertical-align: top;\n",
       "    }\n",
       "\n",
       "    .dataframe thead th {\n",
       "        text-align: right;\n",
       "    }\n",
       "</style>\n",
       "<table border=\"1\" class=\"dataframe\">\n",
       "  <thead>\n",
       "    <tr style=\"text-align: right;\">\n",
       "      <th></th>\n",
       "      <th>motor_peak_mA</th>\n",
       "    </tr>\n",
       "    <tr>\n",
       "      <th>timestamp</th>\n",
       "      <th></th>\n",
       "    </tr>\n",
       "  </thead>\n",
       "  <tbody>\n",
       "    <tr>\n",
       "      <th>2020-02-22 23:59:59</th>\n",
       "      <td>1335</td>\n",
       "    </tr>\n",
       "    <tr>\n",
       "      <th>2020-02-22 23:59:59</th>\n",
       "      <td>1577</td>\n",
       "    </tr>\n",
       "    <tr>\n",
       "      <th>2020-02-22 23:59:59</th>\n",
       "      <td>1585</td>\n",
       "    </tr>\n",
       "    <tr>\n",
       "      <th>2020-02-22 23:59:59</th>\n",
       "      <td>1286</td>\n",
       "    </tr>\n",
       "    <tr>\n",
       "      <th>2020-02-22 23:59:59</th>\n",
       "      <td>1796</td>\n",
       "    </tr>\n",
       "  </tbody>\n",
       "</table>\n",
       "</div>"
      ],
      "text/plain": [
       "                     motor_peak_mA\n",
       "timestamp                         \n",
       "2020-02-22 23:59:59           1335\n",
       "2020-02-22 23:59:59           1577\n",
       "2020-02-22 23:59:59           1585\n",
       "2020-02-22 23:59:59           1286\n",
       "2020-02-22 23:59:59           1796"
      ]
     },
     "execution_count": 3,
     "metadata": {},
     "output_type": "execute_result"
    }
   ],
   "source": [
    "train_data = data[[\"motor_peak_mA\"]]\n",
    "train_data = train_data[train_data[\"motor_peak_mA\"] > 0]\n",
    "train_data.head()"
   ]
  },
  {
   "cell_type": "code",
   "execution_count": 4,
   "metadata": {},
   "outputs": [
    {
     "data": {
      "text/html": [
       "<div>\n",
       "<style scoped>\n",
       "    .dataframe tbody tr th:only-of-type {\n",
       "        vertical-align: middle;\n",
       "    }\n",
       "\n",
       "    .dataframe tbody tr th {\n",
       "        vertical-align: top;\n",
       "    }\n",
       "\n",
       "    .dataframe thead th {\n",
       "        text-align: right;\n",
       "    }\n",
       "</style>\n",
       "<table border=\"1\" class=\"dataframe\">\n",
       "  <thead>\n",
       "    <tr style=\"text-align: right;\">\n",
       "      <th></th>\n",
       "      <th>motor_peak_mA</th>\n",
       "    </tr>\n",
       "  </thead>\n",
       "  <tbody>\n",
       "    <tr>\n",
       "      <th>count</th>\n",
       "      <td>3.079934e+06</td>\n",
       "    </tr>\n",
       "    <tr>\n",
       "      <th>mean</th>\n",
       "      <td>5.250616e+02</td>\n",
       "    </tr>\n",
       "    <tr>\n",
       "      <th>std</th>\n",
       "      <td>6.858781e+02</td>\n",
       "    </tr>\n",
       "    <tr>\n",
       "      <th>min</th>\n",
       "      <td>9.000000e+00</td>\n",
       "    </tr>\n",
       "    <tr>\n",
       "      <th>25%</th>\n",
       "      <td>1.000000e+01</td>\n",
       "    </tr>\n",
       "    <tr>\n",
       "      <th>50%</th>\n",
       "      <td>2.100000e+01</td>\n",
       "    </tr>\n",
       "    <tr>\n",
       "      <th>75%</th>\n",
       "      <td>7.970000e+02</td>\n",
       "    </tr>\n",
       "    <tr>\n",
       "      <th>max</th>\n",
       "      <td>7.730000e+03</td>\n",
       "    </tr>\n",
       "  </tbody>\n",
       "</table>\n",
       "</div>"
      ],
      "text/plain": [
       "       motor_peak_mA\n",
       "count   3.079934e+06\n",
       "mean    5.250616e+02\n",
       "std     6.858781e+02\n",
       "min     9.000000e+00\n",
       "25%     1.000000e+01\n",
       "50%     2.100000e+01\n",
       "75%     7.970000e+02\n",
       "max     7.730000e+03"
      ]
     },
     "execution_count": 4,
     "metadata": {},
     "output_type": "execute_result"
    }
   ],
   "source": [
    "train_data.describe()"
   ]
  },
  {
   "cell_type": "markdown",
   "metadata": {},
   "source": [
    "train_data.info()"
   ]
  },
  {
   "cell_type": "code",
   "execution_count": 5,
   "metadata": {},
   "outputs": [
    {
     "data": {
      "text/plain": [
       "<matplotlib.axes._subplots.AxesSubplot at 0x7f32a4668c18>"
      ]
     },
     "execution_count": 5,
     "metadata": {},
     "output_type": "execute_result"
    }
   ],
   "source": [
    "import matplotlib.pyplot as plt\n",
    "train_data.plot(rot=30)"
   ]
  },
  {
   "cell_type": "markdown",
   "metadata": {},
   "source": [
    "## Synthetic Ground Truth"
   ]
  },
  {
   "cell_type": "code",
   "execution_count": 6,
   "metadata": {},
   "outputs": [
    {
     "name": "stdout",
     "output_type": "stream",
     "text": [
      "<class 'pandas.core.frame.DataFrame'>\n",
      "DatetimeIndex: 3079934 entries, 2020-02-22 23:59:59 to 2020-02-25 22:03:11\n",
      "Data columns (total 1 columns):\n",
      " #   Column         Dtype\n",
      "---  ------         -----\n",
      " 0   motor_peak_mA  int64\n",
      "dtypes: int64(1)\n",
      "memory usage: 47.0 MB\n"
     ]
    }
   ],
   "source": [
    "anomalies = data[[\"motor_peak_mA\"]]\n",
    "anomalies = anomalies[anomalies[\"motor_peak_mA\"] > 0]\n",
    "anomalies.info()"
   ]
  },
  {
   "cell_type": "code",
   "execution_count": 7,
   "metadata": {},
   "outputs": [],
   "source": [
    "from sklearn.model_selection import train_test_split\n",
    "\n",
    "train_data, test_dataframe = train_test_split(anomalies, test_size=0.2)"
   ]
  },
  {
   "cell_type": "code",
   "execution_count": 8,
   "metadata": {},
   "outputs": [
    {
     "data": {
      "text/html": [
       "<div>\n",
       "<style scoped>\n",
       "    .dataframe tbody tr th:only-of-type {\n",
       "        vertical-align: middle;\n",
       "    }\n",
       "\n",
       "    .dataframe tbody tr th {\n",
       "        vertical-align: top;\n",
       "    }\n",
       "\n",
       "    .dataframe thead th {\n",
       "        text-align: right;\n",
       "    }\n",
       "</style>\n",
       "<table border=\"1\" class=\"dataframe\">\n",
       "  <thead>\n",
       "    <tr style=\"text-align: right;\">\n",
       "      <th></th>\n",
       "      <th>motor_peak_mA</th>\n",
       "    </tr>\n",
       "    <tr>\n",
       "      <th>anomaly</th>\n",
       "      <th></th>\n",
       "    </tr>\n",
       "  </thead>\n",
       "  <tbody>\n",
       "    <tr>\n",
       "      <th>0</th>\n",
       "      <td>615635</td>\n",
       "    </tr>\n",
       "    <tr>\n",
       "      <th>1</th>\n",
       "      <td>352</td>\n",
       "    </tr>\n",
       "  </tbody>\n",
       "</table>\n",
       "</div>"
      ],
      "text/plain": [
       "         motor_peak_mA\n",
       "anomaly               \n",
       "0               615635\n",
       "1                  352"
      ]
     },
     "execution_count": 8,
     "metadata": {},
     "output_type": "execute_result"
    }
   ],
   "source": [
    "test_data = test_dataframe.copy()\n",
    "test_data[\"anomaly\"] = test_data[\"motor_peak_mA\"] > 4000\n",
    "test_data[\"anomaly\"] = test_data[\"anomaly\"] | (test_data[\"motor_peak_mA\"] > 50) & (test_data[\"motor_peak_mA\"] < 200)\n",
    "test_data[\"anomaly\"] = test_data[\"anomaly\"].astype(int) \n",
    "test_data.groupby(\"anomaly\").count().head()"
   ]
  },
  {
   "cell_type": "code",
   "execution_count": 9,
   "metadata": {},
   "outputs": [
    {
     "data": {
      "text/html": [
       "<div>\n",
       "<style scoped>\n",
       "    .dataframe tbody tr th:only-of-type {\n",
       "        vertical-align: middle;\n",
       "    }\n",
       "\n",
       "    .dataframe tbody tr th {\n",
       "        vertical-align: top;\n",
       "    }\n",
       "\n",
       "    .dataframe thead th {\n",
       "        text-align: right;\n",
       "    }\n",
       "</style>\n",
       "<table border=\"1\" class=\"dataframe\">\n",
       "  <thead>\n",
       "    <tr style=\"text-align: right;\">\n",
       "      <th></th>\n",
       "      <th>motor_peak_mA</th>\n",
       "      <th>anomaly</th>\n",
       "    </tr>\n",
       "  </thead>\n",
       "  <tbody>\n",
       "    <tr>\n",
       "      <th>count</th>\n",
       "      <td>615987.000000</td>\n",
       "      <td>615987.000000</td>\n",
       "    </tr>\n",
       "    <tr>\n",
       "      <th>mean</th>\n",
       "      <td>525.730116</td>\n",
       "      <td>0.000571</td>\n",
       "    </tr>\n",
       "    <tr>\n",
       "      <th>std</th>\n",
       "      <td>686.395569</td>\n",
       "      <td>0.023898</td>\n",
       "    </tr>\n",
       "    <tr>\n",
       "      <th>min</th>\n",
       "      <td>9.000000</td>\n",
       "      <td>0.000000</td>\n",
       "    </tr>\n",
       "    <tr>\n",
       "      <th>25%</th>\n",
       "      <td>10.000000</td>\n",
       "      <td>0.000000</td>\n",
       "    </tr>\n",
       "    <tr>\n",
       "      <th>50%</th>\n",
       "      <td>21.000000</td>\n",
       "      <td>0.000000</td>\n",
       "    </tr>\n",
       "    <tr>\n",
       "      <th>75%</th>\n",
       "      <td>800.000000</td>\n",
       "      <td>0.000000</td>\n",
       "    </tr>\n",
       "    <tr>\n",
       "      <th>max</th>\n",
       "      <td>7730.000000</td>\n",
       "      <td>1.000000</td>\n",
       "    </tr>\n",
       "  </tbody>\n",
       "</table>\n",
       "</div>"
      ],
      "text/plain": [
       "       motor_peak_mA        anomaly\n",
       "count  615987.000000  615987.000000\n",
       "mean      525.730116       0.000571\n",
       "std       686.395569       0.023898\n",
       "min         9.000000       0.000000\n",
       "25%        10.000000       0.000000\n",
       "50%        21.000000       0.000000\n",
       "75%       800.000000       0.000000\n",
       "max      7730.000000       1.000000"
      ]
     },
     "execution_count": 9,
     "metadata": {},
     "output_type": "execute_result"
    }
   ],
   "source": [
    "test_data.describe()"
   ]
  },
  {
   "cell_type": "code",
   "execution_count": 10,
   "metadata": {},
   "outputs": [
    {
     "data": {
      "text/html": [
       "<div>\n",
       "<style scoped>\n",
       "    .dataframe tbody tr th:only-of-type {\n",
       "        vertical-align: middle;\n",
       "    }\n",
       "\n",
       "    .dataframe tbody tr th {\n",
       "        vertical-align: top;\n",
       "    }\n",
       "\n",
       "    .dataframe thead th {\n",
       "        text-align: right;\n",
       "    }\n",
       "</style>\n",
       "<table border=\"1\" class=\"dataframe\">\n",
       "  <thead>\n",
       "    <tr style=\"text-align: right;\">\n",
       "      <th></th>\n",
       "      <th>motor_peak_mA</th>\n",
       "    </tr>\n",
       "  </thead>\n",
       "  <tbody>\n",
       "    <tr>\n",
       "      <th>count</th>\n",
       "      <td>2.463947e+06</td>\n",
       "    </tr>\n",
       "    <tr>\n",
       "      <th>mean</th>\n",
       "      <td>5.248945e+02</td>\n",
       "    </tr>\n",
       "    <tr>\n",
       "      <th>std</th>\n",
       "      <td>6.857488e+02</td>\n",
       "    </tr>\n",
       "    <tr>\n",
       "      <th>min</th>\n",
       "      <td>9.000000e+00</td>\n",
       "    </tr>\n",
       "    <tr>\n",
       "      <th>25%</th>\n",
       "      <td>1.000000e+01</td>\n",
       "    </tr>\n",
       "    <tr>\n",
       "      <th>50%</th>\n",
       "      <td>2.100000e+01</td>\n",
       "    </tr>\n",
       "    <tr>\n",
       "      <th>75%</th>\n",
       "      <td>7.970000e+02</td>\n",
       "    </tr>\n",
       "    <tr>\n",
       "      <th>max</th>\n",
       "      <td>7.052000e+03</td>\n",
       "    </tr>\n",
       "  </tbody>\n",
       "</table>\n",
       "</div>"
      ],
      "text/plain": [
       "       motor_peak_mA\n",
       "count   2.463947e+06\n",
       "mean    5.248945e+02\n",
       "std     6.857488e+02\n",
       "min     9.000000e+00\n",
       "25%     1.000000e+01\n",
       "50%     2.100000e+01\n",
       "75%     7.970000e+02\n",
       "max     7.052000e+03"
      ]
     },
     "execution_count": 10,
     "metadata": {},
     "output_type": "execute_result"
    }
   ],
   "source": [
    "train_data.describe()"
   ]
  },
  {
   "cell_type": "markdown",
   "metadata": {},
   "source": [
    "# Random Cut Forest Training"
   ]
  },
  {
   "cell_type": "code",
   "execution_count": 11,
   "metadata": {},
   "outputs": [
    {
     "data": {
      "text/plain": [
       "array([[ 20],\n",
       "       [  9],\n",
       "       [488],\n",
       "       ...,\n",
       "       [  9],\n",
       "       [ 21],\n",
       "       [462]])"
      ]
     },
     "execution_count": 11,
     "metadata": {},
     "output_type": "execute_result"
    }
   ],
   "source": [
    "train_array = train_data.values\n",
    "train_array"
   ]
  },
  {
   "cell_type": "code",
   "execution_count": 12,
   "metadata": {},
   "outputs": [
    {
     "data": {
      "text/plain": [
       "array([[1664],\n",
       "       [1490],\n",
       "       [   9],\n",
       "       ...,\n",
       "       [1896],\n",
       "       [2439],\n",
       "       [1194]])"
      ]
     },
     "execution_count": 12,
     "metadata": {},
     "output_type": "execute_result"
    }
   ],
   "source": [
    "test_array = test_data[[\"motor_peak_mA\"]].values\n",
    "test_array"
   ]
  },
  {
   "cell_type": "code",
   "execution_count": 13,
   "metadata": {},
   "outputs": [
    {
     "data": {
      "text/plain": [
       "array([0, 0, 0, ..., 0, 0, 0])"
      ]
     },
     "execution_count": 13,
     "metadata": {},
     "output_type": "execute_result"
    }
   ],
   "source": [
    "labels_array = test_data[\"anomaly\"].values\n",
    "labels_array"
   ]
  },
  {
   "cell_type": "code",
   "execution_count": 16,
   "metadata": {},
   "outputs": [],
   "source": [
    "import io\n",
    "import numpy as np\n",
    "import sagemaker\n",
    "import sagemaker.amazon.common as smac\n",
    "import boto3\n",
    "\n",
    "s3bucket = boto3.resource('s3').Bucket(bucket)\n",
    "\n",
    "def upload_records(array,key,labels=None):\n",
    "    result = {} \n",
    "    buf = io.BytesIO()\n",
    "    if (labels is not None):\n",
    "        smac.write_numpy_to_dense_tensor(buf, array, labels)\n",
    "    else:\n",
    "        smac.write_numpy_to_dense_tensor(buf, array)\n",
    "    buf.seek(0)\n",
    "    s3bucket.Object(key).upload_fileobj(buf)\n"
   ]
  },
  {
   "cell_type": "code",
   "execution_count": 17,
   "metadata": {},
   "outputs": [
    {
     "data": {
      "text/plain": [
       "{'train': <sagemaker.inputs.s3_input at 0x7f325e8d5d30>,\n",
       " 'test': <sagemaker.inputs.s3_input at 0x7f325e8d5ba8>}"
      ]
     },
     "execution_count": 17,
     "metadata": {},
     "output_type": "execute_result"
    }
   ],
   "source": [
    "import os\n",
    "\n",
    "s3 = boto3.client(\"s3\")\n",
    "prefix = \"mt-motor-anomaly\" \n",
    "\n",
    "cwd = os.getcwd()\n",
    "train_key  = \"{}/input/{}\".format(prefix,\"train.rio\")\n",
    "test_key  = \"{}/input/{}\".format(prefix, \"test.rio\")\n",
    "\n",
    "upload_records(train_array,train_key)\n",
    "upload_records(test_array,test_key,labels_array)\n",
    "\n",
    "train_input = sagemaker.s3_input(\n",
    "       s3_data=\"s3://{}/{}\".format(bucket,train_key),\n",
    "       content_type='application/x-recordio-protobuf',\n",
    "       distribution='ShardedByS3Key')\n",
    "\n",
    "test_input = sagemaker.s3_input(\n",
    "       s3_data=\"s3://{}/{}\".format(bucket,test_key),\n",
    "       content_type='application/x-recordio-protobuf',\n",
    "       distribution='FullyReplicated')\n",
    "\n",
    "rcf_input = {\n",
    "    'train': train_input,\n",
    "    'test': test_input     \n",
    "}\n",
    "\n",
    "rcf_input"
   ]
  },
  {
   "cell_type": "markdown",
   "metadata": {},
   "source": [
    "# RCF Training"
   ]
  },
  {
   "cell_type": "code",
   "execution_count": 18,
   "metadata": {},
   "outputs": [
    {
     "data": {
      "text/plain": [
       "'438346466558.dkr.ecr.eu-west-1.amazonaws.com/randomcutforest:1'"
      ]
     },
     "execution_count": 18,
     "metadata": {},
     "output_type": "execute_result"
    }
   ],
   "source": [
    "region = boto3.Session().region_name\n",
    "from sagemaker.amazon.amazon_estimator import get_image_uri\n",
    "\n",
    "rcf_container = get_image_uri(region, 'randomcutforest')\n",
    "rcf_container"
   ]
  },
  {
   "cell_type": "code",
   "execution_count": 19,
   "metadata": {},
   "outputs": [],
   "source": [
    "rcf_hparams = {\n",
    "    \"num_samples_per_tree\":512,\n",
    "    \"num_trees\":50,\n",
    "    \"feature_dim\":1,\n",
    "    \"eval_metrics\": \"accuracy\"\n",
    "}"
   ]
  },
  {
   "cell_type": "code",
   "execution_count": 21,
   "metadata": {},
   "outputs": [],
   "source": [
    "rcf_estimator = sagemaker.estimator.Estimator(\n",
    "                      rcf_container,\n",
    "                      role=sagemaker.get_execution_role(),\n",
    "                      train_instance_count=1,\n",
    "                      train_instance_type='ml.m5.large',\n",
    "                      base_job_name=\"mt-motor-anomaly\",\n",
    "                      output_path='s3://{}/{}/output'.format(bucket, prefix),\n",
    "                      hyperparameters = rcf_hparams )"
   ]
  },
  {
   "cell_type": "code",
   "execution_count": 22,
   "metadata": {},
   "outputs": [
    {
     "name": "stdout",
     "output_type": "stream",
     "text": [
      "2020-05-13 16:17:37 Starting - Starting the training job...\n",
      "2020-05-13 16:17:38 Starting - Launching requested ML instances......\n",
      "2020-05-13 16:19:06 Starting - Preparing the instances for training......\n",
      "2020-05-13 16:19:52 Downloading - Downloading input data...\n",
      "2020-05-13 16:20:36 Training - Downloading the training image..\u001b[34mDocker entrypoint called with argument(s): train\u001b[0m\n",
      "\u001b[34m/opt/amazon/lib/python2.7/site-packages/scipy/_lib/_numpy_compat.py:10: DeprecationWarning: Importing from numpy.testing.nosetester is deprecated, import from numpy.testing instead.\n",
      "  from numpy.testing.nosetester import import_nose\u001b[0m\n",
      "\u001b[34m/opt/amazon/lib/python2.7/site-packages/scipy/stats/morestats.py:12: DeprecationWarning: Importing from numpy.testing.decorators is deprecated, import from numpy.testing instead.\n",
      "  from numpy.testing.decorators import setastest\u001b[0m\n",
      "\u001b[34m[05/13/2020 16:20:53 INFO 140574702872384] Reading default configuration from /opt/amazon/lib/python2.7/site-packages/algorithm/resources/default-conf.json: {u'_ftp_port': 8999, u'num_samples_per_tree': 256, u'_tuning_objective_metric': u'', u'_num_gpus': u'auto', u'_log_level': u'info', u'_kvstore': u'dist_async', u'force_dense': u'true', u'epochs': 1, u'num_trees': 100, u'eval_metrics': [u'accuracy', u'precision_recall_fscore'], u'_num_kv_servers': u'auto', u'mini_batch_size': 1000}\u001b[0m\n",
      "\u001b[34m[05/13/2020 16:20:53 INFO 140574702872384] Reading provided configuration from /opt/ml/input/config/hyperparameters.json: {u'eval_metrics': u'accuracy', u'feature_dim': u'1', u'num_samples_per_tree': u'512', u'num_trees': u'50'}\u001b[0m\n",
      "\u001b[34m[05/13/2020 16:20:53 INFO 140574702872384] Final configuration: {u'_ftp_port': 8999, u'num_samples_per_tree': u'512', u'_tuning_objective_metric': u'', u'_num_gpus': u'auto', u'_log_level': u'info', u'_kvstore': u'dist_async', u'force_dense': u'true', u'epochs': 1, u'feature_dim': u'1', u'num_trees': u'50', u'eval_metrics': u'accuracy', u'_num_kv_servers': u'auto', u'mini_batch_size': 1000}\u001b[0m\n",
      "\u001b[34m[05/13/2020 16:20:53 WARNING 140574702872384] Loggers have already been setup.\u001b[0m\n",
      "\u001b[34m[05/13/2020 16:20:53 INFO 140574702872384] Launching parameter server for role scheduler\u001b[0m\n",
      "\u001b[34m[05/13/2020 16:20:53 INFO 140574702872384] {'ECS_CONTAINER_METADATA_URI': 'http://169.254.170.2/v3/40d3d3f0-997a-4f40-ab16-43d1c19d48e9', 'PROTOCOL_BUFFERS_PYTHON_IMPLEMENTATION_VERSION': '2', 'PATH': '/opt/amazon/bin:/usr/local/nvidia/bin:/usr/local/sbin:/usr/local/bin:/usr/sbin:/usr/bin:/sbin:/bin:/opt/amazon/bin:/opt/amazon/bin', 'SAGEMAKER_HTTP_PORT': '8080', 'HOME': '/root', 'PYTHONUNBUFFERED': 'TRUE', 'CANONICAL_ENVROOT': '/opt/amazon', 'LD_LIBRARY_PATH': '/opt/amazon/lib/python2.7/site-packages/cv2/../../../../lib:/usr/local/nvidia/lib64:/opt/amazon/lib', 'MXNET_KVSTORE_BIGARRAY_BOUND': '400000000', 'LANG': 'en_US.utf8', 'DMLC_INTERFACE': 'eth0', 'SHLVL': '1', 'AWS_REGION': 'eu-west-1', 'NVIDIA_DRIVER_CAPABILITIES': 'compute,utility', 'NVIDIA_VISIBLE_DEVICES': 'void', 'TRAINING_JOB_NAME': 'mt-motor-anomaly-2020-05-13-16-17-37-246', 'PROTOCOL_BUFFERS_PYTHON_IMPLEMENTATION': 'cpp', 'ENVROOT': '/opt/amazon', 'SAGEMAKER_DATA_PATH': '/opt/ml', 'SAGEMAKER_METRICS_DIRECTORY': '/opt/ml/output/metrics/sagemaker', 'NVIDIA_REQUIRE_CUDA': 'cuda>=9.0', 'OMP_NUM_THREADS': '1', 'HOSTNAME': 'ip-10-0-80-209.eu-west-1.compute.internal', 'AWS_CONTAINER_CREDENTIALS_RELATIVE_URI': '/v2/credentials/5e76c340-6ca2-4bf8-8b6b-41a5bdfa29b2', 'PWD': '/', 'TRAINING_JOB_ARN': 'arn:aws:sagemaker:eu-west-1:171292125691:training-job/mt-motor-anomaly-2020-05-13-16-17-37-246', 'AWS_EXECUTION_ENV': 'AWS_ECS_EC2'}\u001b[0m\n",
      "\u001b[34m[05/13/2020 16:20:53 INFO 140574702872384] envs={'ECS_CONTAINER_METADATA_URI': 'http://169.254.170.2/v3/40d3d3f0-997a-4f40-ab16-43d1c19d48e9', 'PROTOCOL_BUFFERS_PYTHON_IMPLEMENTATION_VERSION': '2', 'DMLC_NUM_WORKER': '1', 'DMLC_PS_ROOT_PORT': '9000', 'PATH': '/opt/amazon/bin:/usr/local/nvidia/bin:/usr/local/sbin:/usr/local/bin:/usr/sbin:/usr/bin:/sbin:/bin:/opt/amazon/bin:/opt/amazon/bin', 'SAGEMAKER_HTTP_PORT': '8080', 'HOME': '/root', 'PYTHONUNBUFFERED': 'TRUE', 'CANONICAL_ENVROOT': '/opt/amazon', 'LD_LIBRARY_PATH': '/opt/amazon/lib/python2.7/site-packages/cv2/../../../../lib:/usr/local/nvidia/lib64:/opt/amazon/lib', 'MXNET_KVSTORE_BIGARRAY_BOUND': '400000000', 'LANG': 'en_US.utf8', 'DMLC_INTERFACE': 'eth0', 'SHLVL': '1', 'DMLC_PS_ROOT_URI': '10.0.80.209', 'AWS_REGION': 'eu-west-1', 'NVIDIA_DRIVER_CAPABILITIES': 'compute,utility', 'NVIDIA_VISIBLE_DEVICES': 'void', 'TRAINING_JOB_NAME': 'mt-motor-anomaly-2020-05-13-16-17-37-246', 'PROTOCOL_BUFFERS_PYTHON_IMPLEMENTATION': 'cpp', 'ENVROOT': '/opt/amazon', 'SAGEMAKER_DATA_PATH': '/opt/ml', 'SAGEMAKER_METRICS_DIRECTORY': '/opt/ml/output/metrics/sagemaker', 'NVIDIA_REQUIRE_CUDA': 'cuda>=9.0', 'OMP_NUM_THREADS': '1', 'HOSTNAME': 'ip-10-0-80-209.eu-west-1.compute.internal', 'AWS_CONTAINER_CREDENTIALS_RELATIVE_URI': '/v2/credentials/5e76c340-6ca2-4bf8-8b6b-41a5bdfa29b2', 'DMLC_ROLE': 'scheduler', 'PWD': '/', 'DMLC_NUM_SERVER': '1', 'TRAINING_JOB_ARN': 'arn:aws:sagemaker:eu-west-1:171292125691:training-job/mt-motor-anomaly-2020-05-13-16-17-37-246', 'AWS_EXECUTION_ENV': 'AWS_ECS_EC2'}\u001b[0m\n",
      "\u001b[34m[05/13/2020 16:20:53 INFO 140574702872384] Launching parameter server for role server\u001b[0m\n",
      "\u001b[34m[05/13/2020 16:20:53 INFO 140574702872384] {'ECS_CONTAINER_METADATA_URI': 'http://169.254.170.2/v3/40d3d3f0-997a-4f40-ab16-43d1c19d48e9', 'PROTOCOL_BUFFERS_PYTHON_IMPLEMENTATION_VERSION': '2', 'PATH': '/opt/amazon/bin:/usr/local/nvidia/bin:/usr/local/sbin:/usr/local/bin:/usr/sbin:/usr/bin:/sbin:/bin:/opt/amazon/bin:/opt/amazon/bin', 'SAGEMAKER_HTTP_PORT': '8080', 'HOME': '/root', 'PYTHONUNBUFFERED': 'TRUE', 'CANONICAL_ENVROOT': '/opt/amazon', 'LD_LIBRARY_PATH': '/opt/amazon/lib/python2.7/site-packages/cv2/../../../../lib:/usr/local/nvidia/lib64:/opt/amazon/lib', 'MXNET_KVSTORE_BIGARRAY_BOUND': '400000000', 'LANG': 'en_US.utf8', 'DMLC_INTERFACE': 'eth0', 'SHLVL': '1', 'AWS_REGION': 'eu-west-1', 'NVIDIA_DRIVER_CAPABILITIES': 'compute,utility', 'NVIDIA_VISIBLE_DEVICES': 'void', 'TRAINING_JOB_NAME': 'mt-motor-anomaly-2020-05-13-16-17-37-246', 'PROTOCOL_BUFFERS_PYTHON_IMPLEMENTATION': 'cpp', 'ENVROOT': '/opt/amazon', 'SAGEMAKER_DATA_PATH': '/opt/ml', 'SAGEMAKER_METRICS_DIRECTORY': '/opt/ml/output/metrics/sagemaker', 'NVIDIA_REQUIRE_CUDA': 'cuda>=9.0', 'OMP_NUM_THREADS': '1', 'HOSTNAME': 'ip-10-0-80-209.eu-west-1.compute.internal', 'AWS_CONTAINER_CREDENTIALS_RELATIVE_URI': '/v2/credentials/5e76c340-6ca2-4bf8-8b6b-41a5bdfa29b2', 'PWD': '/', 'TRAINING_JOB_ARN': 'arn:aws:sagemaker:eu-west-1:171292125691:training-job/mt-motor-anomaly-2020-05-13-16-17-37-246', 'AWS_EXECUTION_ENV': 'AWS_ECS_EC2'}\u001b[0m\n",
      "\u001b[34m[05/13/2020 16:20:53 INFO 140574702872384] envs={'ECS_CONTAINER_METADATA_URI': 'http://169.254.170.2/v3/40d3d3f0-997a-4f40-ab16-43d1c19d48e9', 'PROTOCOL_BUFFERS_PYTHON_IMPLEMENTATION_VERSION': '2', 'DMLC_NUM_WORKER': '1', 'DMLC_PS_ROOT_PORT': '9000', 'PATH': '/opt/amazon/bin:/usr/local/nvidia/bin:/usr/local/sbin:/usr/local/bin:/usr/sbin:/usr/bin:/sbin:/bin:/opt/amazon/bin:/opt/amazon/bin', 'SAGEMAKER_HTTP_PORT': '8080', 'HOME': '/root', 'PYTHONUNBUFFERED': 'TRUE', 'CANONICAL_ENVROOT': '/opt/amazon', 'LD_LIBRARY_PATH': '/opt/amazon/lib/python2.7/site-packages/cv2/../../../../lib:/usr/local/nvidia/lib64:/opt/amazon/lib', 'MXNET_KVSTORE_BIGARRAY_BOUND': '400000000', 'LANG': 'en_US.utf8', 'DMLC_INTERFACE': 'eth0', 'SHLVL': '1', 'DMLC_PS_ROOT_URI': '10.0.80.209', 'AWS_REGION': 'eu-west-1', 'NVIDIA_DRIVER_CAPABILITIES': 'compute,utility', 'NVIDIA_VISIBLE_DEVICES': 'void', 'TRAINING_JOB_NAME': 'mt-motor-anomaly-2020-05-13-16-17-37-246', 'PROTOCOL_BUFFERS_PYTHON_IMPLEMENTATION': 'cpp', 'ENVROOT': '/opt/amazon', 'SAGEMAKER_DATA_PATH': '/opt/ml', 'SAGEMAKER_METRICS_DIRECTORY': '/opt/ml/output/metrics/sagemaker', 'NVIDIA_REQUIRE_CUDA': 'cuda>=9.0', 'OMP_NUM_THREADS': '1', 'HOSTNAME': 'ip-10-0-80-209.eu-west-1.compute.internal', 'AWS_CONTAINER_CREDENTIALS_RELATIVE_URI': '/v2/credentials/5e76c340-6ca2-4bf8-8b6b-41a5bdfa29b2', 'DMLC_ROLE': 'server', 'PWD': '/', 'DMLC_NUM_SERVER': '1', 'TRAINING_JOB_ARN': 'arn:aws:sagemaker:eu-west-1:171292125691:training-job/mt-motor-anomaly-2020-05-13-16-17-37-246', 'AWS_EXECUTION_ENV': 'AWS_ECS_EC2'}\u001b[0m\n",
      "\u001b[34m[05/13/2020 16:20:53 INFO 140574702872384] Environment: {'ECS_CONTAINER_METADATA_URI': 'http://169.254.170.2/v3/40d3d3f0-997a-4f40-ab16-43d1c19d48e9', 'PROTOCOL_BUFFERS_PYTHON_IMPLEMENTATION_VERSION': '2', 'DMLC_PS_ROOT_PORT': '9000', 'DMLC_NUM_WORKER': '1', 'SAGEMAKER_HTTP_PORT': '8080', 'PATH': '/opt/amazon/bin:/usr/local/nvidia/bin:/usr/local/sbin:/usr/local/bin:/usr/sbin:/usr/bin:/sbin:/bin:/opt/amazon/bin:/opt/amazon/bin', 'PYTHONUNBUFFERED': 'TRUE', 'CANONICAL_ENVROOT': '/opt/amazon', 'LD_LIBRARY_PATH': '/opt/amazon/lib/python2.7/site-packages/cv2/../../../../lib:/usr/local/nvidia/lib64:/opt/amazon/lib', 'MXNET_KVSTORE_BIGARRAY_BOUND': '400000000', 'LANG': 'en_US.utf8', 'DMLC_INTERFACE': 'eth0', 'SHLVL': '1', 'DMLC_PS_ROOT_URI': '10.0.80.209', 'AWS_REGION': 'eu-west-1', 'SAGEMAKER_METRICS_DIRECTORY': '/opt/ml/output/metrics/sagemaker', 'NVIDIA_VISIBLE_DEVICES': 'void', 'TRAINING_JOB_NAME': 'mt-motor-anomaly-2020-05-13-16-17-37-246', 'HOME': '/root', 'PROTOCOL_BUFFERS_PYTHON_IMPLEMENTATION': 'cpp', 'ENVROOT': '/opt/amazon', 'SAGEMAKER_DATA_PATH': '/opt/ml', 'NVIDIA_DRIVER_CAPABILITIES': 'compute,utility', 'NVIDIA_REQUIRE_CUDA': 'cuda>=9.0', 'OMP_NUM_THREADS': '1', 'HOSTNAME': 'ip-10-0-80-209.eu-west-1.compute.internal', 'AWS_CONTAINER_CREDENTIALS_RELATIVE_URI': '/v2/credentials/5e76c340-6ca2-4bf8-8b6b-41a5bdfa29b2', 'DMLC_ROLE': 'worker', 'PWD': '/', 'DMLC_NUM_SERVER': '1', 'TRAINING_JOB_ARN': 'arn:aws:sagemaker:eu-west-1:171292125691:training-job/mt-motor-anomaly-2020-05-13-16-17-37-246', 'AWS_EXECUTION_ENV': 'AWS_ECS_EC2'}\u001b[0m\n",
      "\u001b[34mProcess 30 is a shell:scheduler.\u001b[0m\n",
      "\u001b[34mProcess 31 is a shell:server.\u001b[0m\n",
      "\u001b[34mProcess 1 is a worker.\u001b[0m\n",
      "\u001b[34m[05/13/2020 16:20:53 INFO 140574702872384] Using default worker.\u001b[0m\n",
      "\u001b[34m[05/13/2020 16:20:53 INFO 140574702872384] Loaded iterator creator application/x-recordio-protobuf for content type ('application/x-recordio-protobuf', '1.0')\u001b[0m\n",
      "\u001b[34m[2020-05-13 16:20:53.860] [tensorio] [warning] TensorIO is already initialized; ignoring the initialization routine.\u001b[0m\n",
      "\u001b[34m[05/13/2020 16:20:53 INFO 140574702872384] Verifying hyperparamemters...\u001b[0m\n",
      "\u001b[34m[05/13/2020 16:20:53 INFO 140574702872384] Hyperparameters are correct.\u001b[0m\n",
      "\u001b[34m[05/13/2020 16:20:53 INFO 140574702872384] Validating that feature_dim agrees with dimensions in training data...\u001b[0m\n",
      "\u001b[34m[05/13/2020 16:20:53 INFO 140574702872384] feature_dim is correct.\u001b[0m\n",
      "\u001b[34m[05/13/2020 16:20:53 INFO 140574702872384] Validating memory limits...\u001b[0m\n",
      "\u001b[34m[05/13/2020 16:20:53 INFO 140574702872384] Available memory in bytes: 6547816448\u001b[0m\n",
      "\u001b[34m[05/13/2020 16:20:53 INFO 140574702872384] Estimated sample size in bytes: 204800\u001b[0m\n",
      "\u001b[34m[05/13/2020 16:20:53 INFO 140574702872384] Estimated memory needed to build the forest in bytes: 1024000\u001b[0m\n",
      "\u001b[34m[05/13/2020 16:20:53 INFO 140574702872384] Memory limits validated.\u001b[0m\n",
      "\u001b[34m[05/13/2020 16:20:53 INFO 140574702872384] Starting cluster sharing facilities...\u001b[0m\n",
      "\u001b[34m[I 20-05-13 16:20:53] >>> starting FTP server on 0.0.0.0:8999, pid=1 <<<\u001b[0m\n",
      "\u001b[34m[05/13/2020 16:20:53 INFO 140573314893568] >>> starting FTP server on 0.0.0.0:8999, pid=1 <<<\u001b[0m\n",
      "\u001b[34m[I 20-05-13 16:20:53] poller: <class 'pyftpdlib.ioloop.Epoll'>\u001b[0m\n",
      "\u001b[34m[05/13/2020 16:20:53 INFO 140573314893568] poller: <class 'pyftpdlib.ioloop.Epoll'>\u001b[0m\n",
      "\u001b[34m[05/13/2020 16:20:53 INFO 140574702872384] Create Store: dist_async\u001b[0m\n",
      "\u001b[34m[I 20-05-13 16:20:53] masquerade (NAT) address: None\u001b[0m\n",
      "\u001b[34m[05/13/2020 16:20:53 INFO 140573314893568] masquerade (NAT) address: None\u001b[0m\n",
      "\u001b[34m[I 20-05-13 16:20:53] passive ports: None\u001b[0m\n",
      "\u001b[34m[05/13/2020 16:20:53 INFO 140573314893568] passive ports: None\u001b[0m\n",
      "\u001b[34m[I 20-05-13 16:20:53] use sendfile(2): False\u001b[0m\n",
      "\u001b[34m[05/13/2020 16:20:53 INFO 140573314893568] use sendfile(2): False\u001b[0m\n",
      "\u001b[34m[05/13/2020 16:20:54 INFO 140574702872384] Cluster sharing facilities started.\u001b[0m\n",
      "\u001b[34m[05/13/2020 16:20:54 INFO 140574702872384] Verifying all workers are accessible...\u001b[0m\n",
      "\u001b[34m[05/13/2020 16:20:54 INFO 140574702872384] All workers accessible.\u001b[0m\n",
      "\u001b[34m[05/13/2020 16:20:54 INFO 140574702872384] Initializing Sampler...\u001b[0m\n",
      "\u001b[34m[05/13/2020 16:20:54 INFO 140574702872384] Sampler correctly initialized.\u001b[0m\n",
      "\u001b[34m#metrics {\"Metrics\": {\"initialize.time\": {\"count\": 1, \"max\": 827.7039527893066, \"sum\": 827.7039527893066, \"min\": 827.7039527893066}}, \"EndTime\": 1589386854.717728, \"Dimensions\": {\"Host\": \"algo-1\", \"Operation\": \"training\", \"Algorithm\": \"RandomCutForest\"}, \"StartTime\": 1589386853.839036}\n",
      "\u001b[0m\n",
      "\u001b[34m#metrics {\"Metrics\": {\"Max Batches Seen Between Resets\": {\"count\": 1, \"max\": 0, \"sum\": 0.0, \"min\": 0}, \"Number of Batches Since Last Reset\": {\"count\": 1, \"max\": 0, \"sum\": 0.0, \"min\": 0}, \"Number of Records Since Last Reset\": {\"count\": 1, \"max\": 0, \"sum\": 0.0, \"min\": 0}, \"Total Batches Seen\": {\"count\": 1, \"max\": 0, \"sum\": 0.0, \"min\": 0}, \"Total Records Seen\": {\"count\": 1, \"max\": 0, \"sum\": 0.0, \"min\": 0}, \"Max Records Seen Between Resets\": {\"count\": 1, \"max\": 0, \"sum\": 0.0, \"min\": 0}, \"Reset Count\": {\"count\": 1, \"max\": 0, \"sum\": 0.0, \"min\": 0}}, \"EndTime\": 1589386854.717917, \"Dimensions\": {\"Host\": \"algo-1\", \"Meta\": \"init_train_data_iter\", \"Operation\": \"training\", \"Algorithm\": \"RandomCutForest\"}, \"StartTime\": 1589386854.71787}\n",
      "\u001b[0m\n",
      "\u001b[34m[2020-05-13 16:20:54.718] [tensorio] [info] epoch_stats={\"data_pipeline\": \"/opt/ml/input/data/train\", \"epoch\": 0, \"duration\": 878, \"num_examples\": 1, \"num_bytes\": 28000}\u001b[0m\n",
      "\u001b[34m[05/13/2020 16:20:54 INFO 140574702872384] Sampling training data...\u001b[0m\n"
     ]
    },
    {
     "name": "stdout",
     "output_type": "stream",
     "text": [
      "\n",
      "2020-05-13 16:20:49 Training - Training image download completed. Training in progress.\u001b[34m[2020-05-13 16:20:58.237] [tensorio] [info] epoch_stats={\"data_pipeline\": \"/opt/ml/input/data/train\", \"epoch\": 1, \"duration\": 3518, \"num_examples\": 2464, \"num_bytes\": 68990516}\u001b[0m\n",
      "\u001b[34m[05/13/2020 16:20:58 INFO 140574702872384] Sampling training data completed.\u001b[0m\n",
      "\u001b[34m#metrics {\"Metrics\": {\"epochs\": {\"count\": 1, \"max\": 1, \"sum\": 1.0, \"min\": 1}, \"update.time\": {\"count\": 1, \"max\": 3540.1980876922607, \"sum\": 3540.1980876922607, \"min\": 3540.1980876922607}}, \"EndTime\": 1589386858.258652, \"Dimensions\": {\"Host\": \"algo-1\", \"Operation\": \"training\", \"Algorithm\": \"RandomCutForest\"}, \"StartTime\": 1589386854.717813}\n",
      "\u001b[0m\n",
      "\u001b[34m[05/13/2020 16:20:58 INFO 140574702872384] Early stop condition met. Stopping training.\u001b[0m\n",
      "\u001b[34m[05/13/2020 16:20:58 INFO 140574702872384] #progress_metric: host=algo-1, completed 100 % epochs\u001b[0m\n",
      "\u001b[34m#metrics {\"Metrics\": {\"Max Batches Seen Between Resets\": {\"count\": 1, \"max\": 2464, \"sum\": 2464.0, \"min\": 2464}, \"Number of Batches Since Last Reset\": {\"count\": 1, \"max\": 2464, \"sum\": 2464.0, \"min\": 2464}, \"Number of Records Since Last Reset\": {\"count\": 1, \"max\": 2463947, \"sum\": 2463947.0, \"min\": 2463947}, \"Total Batches Seen\": {\"count\": 1, \"max\": 2464, \"sum\": 2464.0, \"min\": 2464}, \"Total Records Seen\": {\"count\": 1, \"max\": 2463947, \"sum\": 2463947.0, \"min\": 2463947}, \"Max Records Seen Between Resets\": {\"count\": 1, \"max\": 2463947, \"sum\": 2463947.0, \"min\": 2463947}, \"Reset Count\": {\"count\": 1, \"max\": 1, \"sum\": 1.0, \"min\": 1}}, \"EndTime\": 1589386858.259172, \"Dimensions\": {\"Host\": \"algo-1\", \"Meta\": \"training_data_iter\", \"Operation\": \"training\", \"Algorithm\": \"RandomCutForest\", \"epoch\": 0}, \"StartTime\": 1589386854.718422}\n",
      "\u001b[0m\n",
      "\u001b[34m[05/13/2020 16:20:58 INFO 140574702872384] #throughput_metric: host=algo-1, train throughput=695860.578107 records/second\u001b[0m\n",
      "\u001b[34m[05/13/2020 16:20:58 INFO 140574702872384] Master node: building Random Cut Forest...\u001b[0m\n",
      "\u001b[34m[05/13/2020 16:20:58 INFO 140574702872384] Gathering samples...\u001b[0m\n",
      "\u001b[34m[05/13/2020 16:20:58 INFO 140574702872384] 25600 samples gathered\u001b[0m\n",
      "\u001b[34m[05/13/2020 16:20:58 INFO 140574702872384] Building Random Cut Forest...\u001b[0m\n",
      "\u001b[34m[05/13/2020 16:20:58 INFO 140574702872384] Random Cut Forest built: \n",
      "\u001b[0m\n",
      "\u001b[34mForestInfo{num_trees: 50, num_samples_in_forest: 25600, num_samples_per_tree: 512, sample_dim: 1, shingle_size: 1, trees_num_nodes: [451, 465, 449, 489, 461, 457, 489, 449, 465, 481, 463, 445, 425, 461, 485, 465, 475, 493, 425, 487, 475, 445, 457, 461, 451, 503, 461, 469, 475, 497, 459, 461, 485, 449, 453, 455, 459, 445, 451, 437, 451, 445, 471, 467, 485, 463, 465, 475, 445, 421, ], trees_depth: [17, 19, 19, 22, 19, 17, 21, 20, 19, 20, 16, 24, 22, 19, 17, 20, 19, 18, 19, 19, 18, 19, 16, 20, 17, 19, 19, 21, 17, 21, 18, 19, 21, 18, 17, 19, 18, 17, 20, 20, 18, 18, 16, 17, 18, 20, 19, 18, 21, 18, ], max_num_nodes: 503, min_num_nodes: 421, avg_num_nodes: 462, max_tree_depth: 24, min_tree_depth: 16, avg_tree_depth: 18, mem_size: 2404512}\u001b[0m\n",
      "\u001b[34m#metrics {\"Metrics\": {\"finalize.time\": {\"count\": 1, \"max\": 26.558876037597656, \"sum\": 26.558876037597656, \"min\": 26.558876037597656}, \"model.bytes\": {\"count\": 1, \"max\": 2404512, \"sum\": 2404512.0, \"min\": 2404512}, \"fit_model.time\": {\"count\": 1, \"max\": 10.516166687011719, \"sum\": 10.516166687011719, \"min\": 10.516166687011719}}, \"EndTime\": 1589386858.286035, \"Dimensions\": {\"Host\": \"algo-1\", \"Operation\": \"training\", \"Algorithm\": \"RandomCutForest\"}, \"StartTime\": 1589386858.258729}\n",
      "\u001b[0m\n",
      "\u001b[34m[05/13/2020 16:20:58 INFO 140574702872384] Master node: Serializing the RandomCutForest model\u001b[0m\n",
      "\u001b[34m#metrics {\"Metrics\": {\"serialize_model.time\": {\"count\": 1, \"max\": 22.85909652709961, \"sum\": 22.85909652709961, \"min\": 22.85909652709961}}, \"EndTime\": 1589386858.309024, \"Dimensions\": {\"Host\": \"algo-1\", \"Operation\": \"training\", \"Algorithm\": \"RandomCutForest\"}, \"StartTime\": 1589386858.28611}\n",
      "\u001b[0m\n",
      "\u001b[34m[05/13/2020 16:20:58 INFO 140574702872384] Labels shape [DataDesc[out_label,(1000L,),<type 'numpy.int32'>,NCHW]]\u001b[0m\n",
      "\u001b[34m[2020-05-13 16:20:58.309] [tensorio] [info] epoch_stats={\"data_pipeline\": \"/opt/ml/input/data/test\", \"epoch\": 0, \"duration\": 4448, \"num_examples\": 1, \"num_bytes\": 44000}\u001b[0m\n",
      "\u001b[34m[2020-05-13 16:21:05.617] [tensorio] [info] epoch_stats={\"data_pipeline\": \"/opt/ml/input/data/test\", \"epoch\": 2, \"duration\": 7307, \"num_examples\": 616, \"num_bytes\": 27103428}\u001b[0m\n",
      "\u001b[34m#metrics {\"Metrics\": {\"evaluate.time\": {\"count\": 1, \"max\": 7307.56402015686, \"sum\": 7307.56402015686, \"min\": 7307.56402015686}}, \"EndTime\": 1589386865.617458, \"Dimensions\": {\"Host\": \"algo-1\", \"Operation\": \"training\", \"Algorithm\": \"RandomCutForest\"}, \"StartTime\": 1589386858.309092}\n",
      "\u001b[0m\n",
      "\u001b[34m[2020-05-13 16:21:06.943] [tensorio] [info] epoch_stats={\"data_pipeline\": \"/opt/ml/input/data/test\", \"epoch\": 4, \"duration\": 1279, \"num_examples\": 616, \"num_bytes\": 27103428}\u001b[0m\n",
      "\u001b[34m[05/13/2020 16:21:07 INFO 140574702872384] #precision_recall_fscore: [('precision', 1.0), ('negative_precision', 0.9834154978193248), ('recall', 0.0333270213974626), ('negative_recall', 1.0), ('f1', 0.06450430639545539), ('negative_f1', 0.991638412526821)]\u001b[0m\n",
      "\u001b[34m[05/13/2020 16:21:07 INFO 140574702872384] #accuracy: [('accuracy', 0.9834249748777166)]\u001b[0m\n",
      "\u001b[34m#metrics {\"Metrics\": {\"score.time\": {\"count\": 1, \"max\": 8879.281997680664, \"sum\": 8879.281997680664, \"min\": 8879.281997680664}}, \"EndTime\": 1589386867.188788, \"Dimensions\": {\"Host\": \"algo-1\", \"Operation\": \"training\", \"Algorithm\": \"RandomCutForest\"}, \"StartTime\": 1589386865.617544}\n",
      "\u001b[0m\n",
      "\u001b[34m#metrics {\"Metrics\": {\"Max Batches Seen Between Resets\": {\"count\": 1, \"max\": 616, \"sum\": 616.0, \"min\": 616}, \"Number of Batches Since Last Reset\": {\"count\": 1, \"max\": 616, \"sum\": 616.0, \"min\": 616}, \"Number of Records Since Last Reset\": {\"count\": 1, \"max\": 615987, \"sum\": 615987.0, \"min\": 615987}, \"Total Batches Seen\": {\"count\": 1, \"max\": 1233, \"sum\": 1233.0, \"min\": 1233}, \"Total Records Seen\": {\"count\": 1, \"max\": 1232974, \"sum\": 1232974.0, \"min\": 1232974}, \"Max Records Seen Between Resets\": {\"count\": 1, \"max\": 615987, \"sum\": 615987.0, \"min\": 615987}, \"Reset Count\": {\"count\": 1, \"max\": 3, \"sum\": 3.0, \"min\": 3}}, \"EndTime\": 1589386867.188931, \"Dimensions\": {\"Host\": \"algo-1\", \"Meta\": \"test_data_iter\", \"Operation\": \"training\", \"Algorithm\": \"RandomCutForest\"}, \"StartTime\": 1589386858.309464}\n",
      "\u001b[0m\n",
      "\u001b[34m[05/13/2020 16:21:07 INFO 140574702872384] #test_score (algo-1) : ('precision', 1.0)\u001b[0m\n",
      "\u001b[34m[05/13/2020 16:21:07 INFO 140574702872384] #test_score (algo-1) : ('negative_precision', 0.9834154978193248)\u001b[0m\n",
      "\u001b[34m[05/13/2020 16:21:07 INFO 140574702872384] #test_score (algo-1) : ('recall', 0.0333270213974626)\u001b[0m\n",
      "\u001b[34m[05/13/2020 16:21:07 INFO 140574702872384] #test_score (algo-1) : ('negative_recall', 1.0)\u001b[0m\n",
      "\u001b[34m[05/13/2020 16:21:07 INFO 140574702872384] #test_score (algo-1) : ('f1', 0.06450430639545539)\u001b[0m\n",
      "\u001b[34m[05/13/2020 16:21:07 INFO 140574702872384] #test_score (algo-1) : ('negative_f1', 0.991638412526821)\u001b[0m\n",
      "\u001b[34m[05/13/2020 16:21:07 INFO 140574702872384] #test_score (algo-1) : ('accuracy', 0.9834249748777166)\u001b[0m\n",
      "\u001b[34m[05/13/2020 16:21:07 INFO 140574702872384] #quality_metric: host=algo-1, test f1 <score>=0.0645043063955\u001b[0m\n",
      "\u001b[34m[I 20-05-13 16:21:07] >>> shutting down FTP server (0 active fds) <<<\u001b[0m\n",
      "\u001b[34m[05/13/2020 16:21:07 INFO 140573314893568] >>> shutting down FTP server (0 active fds) <<<\u001b[0m\n",
      "\u001b[34m#metrics {\"Metrics\": {\"totaltime\": {\"count\": 1, \"max\": 13626.546144485474, \"sum\": 13626.546144485474, \"min\": 13626.546144485474}, \"setuptime\": {\"count\": 1, \"max\": 218.40906143188477, \"sum\": 218.40906143188477, \"min\": 218.40906143188477}}, \"EndTime\": 1589386867.237825, \"Dimensions\": {\"Host\": \"algo-1\", \"Operation\": \"training\", \"Algorithm\": \"RandomCutForest\"}, \"StartTime\": 1589386867.188879}\n",
      "\u001b[0m\n",
      "\n",
      "2020-05-13 16:21:18 Uploading - Uploading generated training model\n",
      "2020-05-13 16:21:18 Completed - Training job completed\n",
      "Training seconds: 86\n",
      "Billable seconds: 86\n"
     ]
    }
   ],
   "source": [
    "rcf_estimator.fit(rcf_input)"
   ]
  },
  {
   "cell_type": "code",
   "execution_count": 23,
   "metadata": {},
   "outputs": [
    {
     "name": "stdout",
     "output_type": "stream",
     "text": [
      "Training job name: mt-motor-anomaly-2020-05-13-16-17-37-246\n"
     ]
    }
   ],
   "source": [
    "print('Training job name: {}'.format(rcf_estimator.latest_training_job.job_name))"
   ]
  },
  {
   "cell_type": "code",
   "execution_count": 24,
   "metadata": {},
   "outputs": [
    {
     "name": "stdout",
     "output_type": "stream",
     "text": [
      "---------------!"
     ]
    }
   ],
   "source": [
    "rcf_inference = rcf_estimator.deploy(\n",
    "    initial_instance_count=1,\n",
    "    instance_type='ml.m5.large',\n",
    ")"
   ]
  },
  {
   "cell_type": "code",
   "execution_count": 25,
   "metadata": {},
   "outputs": [
    {
     "name": "stdout",
     "output_type": "stream",
     "text": [
      "Stored 'rcf_inference_endpoint' (str)\n"
     ]
    },
    {
     "data": {
      "text/plain": [
       "'mt-motor-anomaly-2020-05-13-16-17-37-246'"
      ]
     },
     "execution_count": 25,
     "metadata": {},
     "output_type": "execute_result"
    }
   ],
   "source": [
    "rcf_inference_endpoint = rcf_inference.endpoint\n",
    "%store rcf_inference_endpoint\n",
    "rcf_inference_endpoint"
   ]
  },
  {
   "cell_type": "code",
   "execution_count": 26,
   "metadata": {},
   "outputs": [],
   "source": [
    "from sagemaker.predictor import csv_serializer, json_deserializer\n",
    "\n",
    "rcf_inference.content_type = 'text/csv'\n",
    "rcf_inference.serializer = csv_serializer\n",
    "rcf_inference.accept = 'application/json'\n",
    "rcf_inference.deserializer = json_deserializer"
   ]
  },
  {
   "cell_type": "code",
   "execution_count": 27,
   "metadata": {},
   "outputs": [
    {
     "data": {
      "text/plain": [
       "array([[ 20],\n",
       "       [  9],\n",
       "       [488],\n",
       "       [392],\n",
       "       [ 10]])"
      ]
     },
     "execution_count": 27,
     "metadata": {},
     "output_type": "execute_result"
    }
   ],
   "source": [
    "sample_data = train_data[:5].values\n",
    "sample_data"
   ]
  },
  {
   "cell_type": "code",
   "execution_count": 28,
   "metadata": {},
   "outputs": [
    {
     "data": {
      "text/plain": [
       "{'scores': [{'score': 0.8458514883},\n",
       "  {'score': 0.7505436662},\n",
       "  {'score': 0.7561386466},\n",
       "  {'score': 0.840287521},\n",
       "  {'score': 0.7417537876}]}"
      ]
     },
     "execution_count": 28,
     "metadata": {},
     "output_type": "execute_result"
    }
   ],
   "source": [
    "results = rcf_inference.predict(sample_data)\n",
    "results"
   ]
  },
  {
   "cell_type": "code",
   "execution_count": 29,
   "metadata": {},
   "outputs": [
    {
     "data": {
      "text/plain": [
       "(0.78691502194, 0.8458514883, 0.051555137007527445, 0.8384701589475274)"
      ]
     },
     "execution_count": 29,
     "metadata": {},
     "output_type": "execute_result"
    }
   ],
   "source": [
    "import pandas as pd\n",
    "sigmas = 1\n",
    "\n",
    "scores = results[\"scores\"]\n",
    "scores = [score[\"score\"] for score in scores]\n",
    "series = pd.Series(scores)\n",
    "score_mean = series.mean()\n",
    "score_max = series.max()\n",
    "score_std = series.std()\n",
    "score_cutoff = score_mean + sigmas*score_std\n",
    "(score_mean,score_max,score_std,score_cutoff)"
   ]
  },
  {
   "cell_type": "code",
   "execution_count": 30,
   "metadata": {},
   "outputs": [
    {
     "data": {
      "text/plain": [
       "0    0.845851\n",
       "3    0.840288\n",
       "dtype: float64"
      ]
     },
     "execution_count": 30,
     "metadata": {},
     "output_type": "execute_result"
    }
   ],
   "source": [
    "anomalies = series[series > score_cutoff ]  \n",
    "anomalies"
   ]
  },
  {
   "cell_type": "code",
   "execution_count": 31,
   "metadata": {},
   "outputs": [
    {
     "data": {
      "text/plain": [
       "'2 anomalies detected'"
      ]
     },
     "execution_count": 31,
     "metadata": {},
     "output_type": "execute_result"
    }
   ],
   "source": [
    "\"{} anomalies detected\".format(len(anomalies))"
   ]
  },
  {
   "cell_type": "markdown",
   "metadata": {},
   "source": [
    "## Motor Maintenance"
   ]
  },
  {
   "cell_type": "markdown",
   "metadata": {},
   "source": [
    "Now that we can detect anomalies in past data, let's combine that with forecasting for predictive [motor maintenance](mt-motor-maintenance.ipynb)."
   ]
  }
 ],
 "metadata": {
  "kernelspec": {
   "display_name": "conda_python3",
   "language": "python",
   "name": "conda_python3"
  },
  "language_info": {
   "codemirror_mode": {
    "name": "ipython",
    "version": 3
   },
   "file_extension": ".py",
   "mimetype": "text/x-python",
   "name": "python",
   "nbconvert_exporter": "python",
   "pygments_lexer": "ipython3",
   "version": "3.6.5"
  }
 },
 "nbformat": 4,
 "nbformat_minor": 4
}
